{
  "cells": [
    {
      "cell_type": "markdown",
      "metadata": {
        "id": "-mOeS9Cvbwk7"
      },
      "source": [
        "\n",
        "\n",
        "#Punto 1\n",
        "\n",
        "\n"
      ]
    },
    {
      "cell_type": "markdown",
      "metadata": {
        "id": "DGr1ycbyb2nB"
      },
      "source": [
        "1. crear un archivo con minimo 2000 lineas de  canciones ( sin repetir) de su artista favorito\n",
        "2. Crear un modelo de generacion  de texto usando una red SimpleRnN on una red LSTM\n",
        "3. Generar algunas lineas de texto a partir de una palabra dada"
      ]
    },
    {
      "cell_type": "code",
      "execution_count": null,
      "metadata": {
        "id": "dCSrQQKrbgJ1"
      },
      "outputs": [],
      "source": [
        "# librerías para dataframes\n",
        "import pandas as pd\n",
        "import numpy  as np\n",
        "\n",
        "# expresiones regulares\n",
        "import re\n",
        "\n",
        "# liberías para el embedding\n",
        "import tensorflow as tf\n",
        "from tensorflow.keras.preprocessing.sequence   import pad_sequences\n",
        "from tensorflow.keras.preprocessing.text       import Tokenizer\n",
        "from tensorflow.keras.utils                    import to_categorical\n",
        "\n",
        "# librerías de keras para las redes neuronales\n",
        "from tensorflow.keras.models                   import Sequential\n",
        "from tensorflow.keras.layers                   import Dense, LSTM, Embedding, Dropout, Conv1D, MaxPooling1D\n",
        "\n",
        "# otras librerías\n",
        "import string\n",
        "import requests\n",
        "import requests\n",
        "from bs4 import BeautifulSoup\n",
        "import time"
      ]
    },
    {
      "cell_type": "code",
      "execution_count": null,
      "metadata": {
        "colab": {
          "base_uri": "https://localhost:8080/"
        },
        "id": "S6GlNt2jdJhy",
        "outputId": "0201305a-36b3-4b2f-fbc2-dc00b079e62f"
      },
      "outputs": [
        {
          "name": "stdout",
          "output_type": "stream",
          "text": [
            "Letras de https://www.letras.com/diaz-diomedes/hija/ guardadas con éxito.\n",
            "Letras de https://www.letras.com/diaz-diomedes/bonita/ guardadas con éxito.\n",
            "Letras de https://www.letras.com/diaz-diomedes/mi-ahijado/ guardadas con éxito.\n",
            "Letras de https://www.letras.com/diaz-diomedes/amores-que-se-van/ guardadas con éxito.\n",
            "Letras de https://www.letras.com/diaz-diomedes/la-ventana-marroncita/ guardadas con éxito.\n",
            "Letras de https://www.letras.com/diaz-diomedes/tu-cumpleanos/ guardadas con éxito.\n",
            "Letras de https://www.letras.com/diaz-diomedes/nacio-mi-poesia/ guardadas con éxito.\n",
            "Letras de https://www.letras.com/diaz-diomedes/mis-mejores-dias/ guardadas con éxito.\n",
            "Letras de https://www.letras.com/diaz-diomedes/lloraras/ guardadas con éxito.\n",
            "Letras de https://www.letras.com/diaz-diomedes/reina-de-mi-alma/ guardadas con éxito.\n",
            "Letras de https://www.letras.com/diaz-diomedes/suenos-y-vivencias/ guardadas con éxito.\n",
            "Letras de https://www.letras.com/diaz-diomedes/al-final-del-camino/ guardadas con éxito.\n",
            "Letras de https://www.letras.com/diaz-diomedes/mi-primavera/ guardadas con éxito.\n",
            "Letras de https://www.letras.com/diaz-diomedes/la-suerte-esta-echada/ guardadas con éxito.\n",
            "Letras de https://www.letras.com/diaz-diomedes/camino-de-los-recuerdos/ guardadas con éxito.\n",
            "Letras de https://www.letras.com/diaz-diomedes/entre-palos-y-estacas/ guardadas con éxito.\n",
            "Letras de https://www.letras.com/diaz-diomedes/si-te-vas/ guardadas con éxito.\n",
            "Letras de https://www.letras.com/diaz-diomedes/mi-biografia/ guardadas con éxito.\n",
            "Letras de https://www.letras.com/diaz-diomedes/para-mi-familia/ guardadas con éxito.\n",
            "Letras de https://www.letras.com/diaz-diomedes/la-fama/ guardadas con éxito.\n",
            "Letras de https://www.letras.com/diaz-diomedes/el-cacique-y-el-fuete/ guardadas con éxito.\n",
            "Letras de https://www.letras.com/diaz-diomedes/el-regreso-del-condor/ guardadas con éxito.\n",
            "Letras de https://www.letras.com/diaz-diomedes/mis-mejores-anos/ guardadas con éxito.\n",
            "Letras de https://www.letras.com/diaz-diomedes/donde-estas-corazon/ guardadas con éxito.\n",
            "Letras de https://www.letras.com/diaz-diomedes/el-nino-del-amor/ guardadas con éxito.\n",
            "Letras de https://www.letras.com/diaz-diomedes/la-ventana-abierta/ guardadas con éxito.\n",
            "Letras de https://www.letras.com/diaz-diomedes/el-cariño/ guardadas con éxito.\n",
            "Letras de https://www.letras.com/diaz-diomedes/mi-cantante-favorita/ guardadas con éxito.\n",
            "Letras de https://www.letras.com/diaz-diomedes/el-rey-de-mi-alma/ guardadas con éxito.\n",
            "Letras de https://www.letras.com/diaz-diomedes/mi-heredero/ guardadas con éxito.\n",
            "Letras de https://www.letras.com/diaz-diomedes/el-mundo-sigue-igual/ guardadas con éxito.\n",
            "Letras de https://www.letras.com/diaz-diomedes/corazon-loco/ guardadas con éxito.\n",
            "Letras de https://www.letras.com/diaz-diomedes/mi-vida-cambio/ guardadas con éxito.\n",
            "Letras de https://www.letras.com/diaz-diomedes/volver-a-la-vida/ guardadas con éxito.\n",
            "Letras de https://www.letras.com/diaz-diomedes/el-nino-jesus/ guardadas con éxito.\n",
            "Letras de https://www.letras.com/diaz-diomedes/siempre-te-amare/ guardadas con éxito.\n",
            "Letras de https://www.letras.com/diaz-diomedes/te-quiero-mi-amor/ guardadas con éxito.\n",
            "Letras de https://www.letras.com/diaz-diomedes/el-hijo-del-amor/ guardadas con éxito.\n",
            "Letras de https://www.letras.com/diaz-diomedes/cancion-para-mi-madre/ guardadas con éxito.\n",
            "Letras de https://www.letras.com/diaz-diomedes/por-ti-soy-feliz/ guardadas con éxito.\n",
            "Letras de https://www.letras.com/diaz-diomedes/recuerdo-de-un-amor/ guardadas con éxito.\n",
            "Letras de https://www.letras.com/diaz-diomedes/seras-mi-eterno-amor/ guardadas con éxito.\n",
            "Letras de https://www.letras.com/diaz-diomedes/dios-me-ha-bendecido/ guardadas con éxito.\n",
            "Letras de https://www.letras.com/diaz-diomedes/la-cancion-de-mi-vida/ guardadas con éxito.\n",
            "Letras de https://www.letras.com/diaz-diomedes/el-querer-de-mi-alma/ guardadas con éxito.\n",
            "Letras de https://www.letras.com/diaz-diomedes/la-vida-es-una-sola/ guardadas con éxito.\n",
            "Letras de https://www.letras.com/diaz-diomedes/por-que-te-vas/ guardadas con éxito.\n",
            "Letras de https://www.letras.com/diaz-diomedes/mis-alegrias/ guardadas con éxito.\n",
            "Letras de https://www.letras.com/diaz-diomedes/nuestra-historia/ guardadas con éxito.\n",
            "Letras de https://www.letras.com/diaz-diomedes/el-angel-de-mi-alma/ guardadas con éxito.\n",
            "Letras de https://www.letras.com/diaz-diomedes/mi-corazon-es-tuyo/ guardadas con éxito.\n",
            "Letras de https://www.letras.com/diaz-diomedes/la-dicha-de-quererte/ guardadas con éxito.\n",
            "Letras de https://www.letras.com/diaz-diomedes/el-dolor-de-amor/ guardadas con éxito.\n",
            "Letras de https://www.letras.com/diaz-diomedes/mi-alegria-es-tu-amor/ guardadas con éxito.\n",
            "Letras de https://www.letras.com/diaz-diomedes/sentimiento-vallenato/ guardadas con éxito.\n",
            "Letras de https://www.letras.com/diaz-diomedes/cancion-de-mi-pueblo/ guardadas con éxito.\n",
            "Letras de https://www.letras.com/diaz-diomedes/tu-amor-es-para-siempre/ guardadas con éxito.\n",
            "Letras de https://www.letras.com/diaz-diomedes/el-poder-del-amor/ guardadas con éxito.\n",
            "Letras de https://www.letras.com/diaz-diomedes/mis-suenos-contigo/ guardadas con éxito.\n",
            "Letras de https://www.letras.com/diaz-diomedes/el-amor-es-asi/ guardadas con éxito.\n",
            "Letras de https://www.letras.com/diaz-diomedes/no-te-vayas-mi-amor/ guardadas con éxito.\n",
            "Letras de https://www.letras.com/hector-lavoe/1013164/ guardadas con éxito.\n",
            "Letras de https://www.letras.com/hector-lavoe/453110/ guardadas con éxito.\n",
            "Letras de https://www.letras.com/hector-lavoe/581111/ guardadas con éxito.\n",
            "Letras de https://www.letras.com/hector-lavoe/1576121/ guardadas con éxito.\n",
            "Letras de https://www.letras.com/hector-lavoe/1681631/ guardadas con éxito.\n",
            "Letras de https://www.letras.com/hector-lavoe/emborrachame-de-amor/ guardadas con éxito.\n",
            "Letras de https://www.letras.com/hector-lavoe/581110/ guardadas con éxito.\n",
            "Letras de https://www.letras.com/hector-lavoe/596142/ guardadas con éxito.\n",
            "Letras de https://www.letras.com/hector-lavoe/escarcha/ guardadas con éxito.\n",
            "Letras de https://www.letras.com/hector-lavoe/581109/ guardadas con éxito.\n",
            "Letras de https://www.letras.com/hector-lavoe/la-fama/ guardadas con éxito.\n",
            "Letras de https://www.letras.com/hector-lavoe/581108/ guardadas con éxito.\n",
            "Letras de https://www.letras.com/hector-lavoe/607044/ guardadas con éxito.\n",
            "Letras de https://www.letras.com/hector-lavoe/607043/ guardadas con éxito.\n",
            "Letras de https://www.letras.com/hector-lavoe/661685/ guardadas con éxito.\n",
            "Letras de https://www.letras.com/hector-lavoe/triste-y-vacia/ guardadas con éxito.\n",
            "Letras de https://www.letras.com/hector-lavoe/tus-ojos/ guardadas con éxito.\n",
            "Letras de https://www.letras.com/hector-lavoe/consejo-de-oro/ guardadas con éxito.\n",
            "Letras de https://www.letras.com/hector-lavoe/loco/ guardadas con éxito.\n",
            "Letras de https://www.letras.com/hector-lavoe/un-amor-de-la-calle/ guardadas con éxito.\n",
            "Letras de https://www.letras.com/hector-lavoe/1576219/ guardadas con éxito.\n",
            "Letras de https://www.letras.com/colon-willie/672833/ guardadas con éxito.\n",
            "Letras de https://www.letras.com/colon-willie/agualile/ guardadas con éxito.\n",
            "Letras de https://www.letras.com/colon-willie/1594658/ guardadas con éxito.\n",
            "Letras de https://www.letras.com/colon-willie/827170/ guardadas con éxito.\n",
            "Letras de https://www.letras.com/colon-willie/1594652/ guardadas con éxito.\n",
            "Letras de https://www.letras.com/colon-willie/755793/ guardadas con éxito.\n",
            "Letras de https://www.letras.com/colon-willie/asia/ guardadas con éxito.\n",
            "Letras de https://www.letras.com/colon-willie/1594390/ guardadas con éxito.\n",
            "Letras de https://www.letras.com/colon-willie/827171/ guardadas con éxito.\n",
            "Letras de https://www.letras.com/colon-willie/1594391/ guardadas con éxito.\n",
            "Letras de https://www.letras.com/colon-willie/675763/ guardadas con éxito.\n",
            "Letras de https://www.letras.com/colon-willie/carmelina/ guardadas con éxito.\n",
            "Letras de https://www.letras.com/colon-willie/755794/ guardadas con éxito.\n",
            "Letras de https://www.letras.com/colon-willie/1594400/ guardadas con éxito.\n",
            "Letras de https://www.letras.com/colon-willie/color-americano/ guardadas con éxito.\n",
            "Letras de https://www.letras.com/colon-willie/675764/ guardadas con éxito.\n",
            "Letras de https://www.letras.com/colon-willie/1594651/ guardadas con éxito.\n",
            "Letras de https://www.letras.com/colon-willie/1594393/ guardadas con éxito.\n",
            "Letras de https://www.letras.com/colon-willie/675765/ guardadas con éxito.\n",
            "Letras de https://www.letras.com/colon-willie/el-diablo/ guardadas con éxito.\n",
            "Letras de https://www.letras.com/colon-willie/eso-se-baila-asi/ guardadas con éxito.\n",
            "Letras de https://www.letras.com/colon-willie/755795/ guardadas con éxito.\n",
            "Letras de https://www.letras.com/colon-willie/8262/ guardadas con éxito.\n",
            "Letras de https://www.letras.com/colon-willie/755796/ guardadas con éxito.\n",
            "Letras de https://www.letras.com/colon-willie/675768/ guardadas con éxito.\n",
            "Letras de https://www.letras.com/colon-willie/672831/ guardadas con éxito.\n",
            "Letras de https://www.letras.com/colon-willie/los-olores-del-amor/ guardadas con éxito.\n",
            "Letras de https://www.letras.com/colon-willie/755797/ guardadas con éxito.\n",
            "Letras de https://www.letras.com/colon-willie/1594389/ guardadas con éxito.\n",
            "Letras de https://www.letras.com/colon-willie/narcomula/ guardadas con éxito.\n",
            "Letras de https://www.letras.com/colon-willie/no/ guardadas con éxito.\n",
            "Letras de https://www.letras.com/colon-willie/no-me-fio-mas/ guardadas con éxito.\n",
            "Letras de https://www.letras.com/colon-willie/1819351/ guardadas con éxito.\n",
            "Letras de https://www.letras.com/colon-willie/672840/ guardadas con éxito.\n",
            "Letras de https://www.letras.com/colon-willie/1594392/ guardadas con éxito.\n",
            "Letras de https://www.letras.com/colon-willie/pregunta-por-ahi/ guardadas con éxito.\n",
            "Letras de https://www.letras.com/colon-willie/755798/ guardadas con éxito.\n",
            "Letras de https://www.letras.com/colon-willie/827172/ guardadas con éxito.\n",
            "Letras de https://www.letras.com/colon-willie/1594650/ guardadas con éxito.\n",
            "Letras de https://www.letras.com/colon-willie/417303/ guardadas con éxito.\n",
            "Letras de https://www.letras.com/colon-willie/417303/ guardadas con éxito.\n",
            "Letras de https://www.letras.com/colon-willie/672832/ guardadas con éxito.\n",
            "Letras de https://www.letras.com/colon-willie/soltera/ guardadas con éxito.\n",
            "Letras de https://www.letras.com/colon-willie/675770/ guardadas con éxito.\n",
            "Letras de https://www.letras.com/colon-willie/tiempo-pa-matar/ guardadas con éxito.\n",
            "Letras de https://www.letras.com/colon-willie/1594387/ guardadas con éxito.\n",
            "Letras de https://www.letras.com/joe-arroyo/867589/ guardadas con éxito.\n",
            "Letras de https://www.letras.com/joe-arroyo/1581744/ guardadas con éxito.\n",
            "Letras de https://www.letras.com/joe-arroyo/tamarindo-seco/ guardadas con éxito.\n",
            "Letras de https://www.letras.com/joe-arroyo/867586/ guardadas con éxito.\n",
            "Letras de https://www.letras.com/joe-arroyo/867591/ guardadas con éxito.\n",
            "Letras de https://www.letras.com/joe-arroyo/867590/ guardadas con éxito.\n",
            "Letras de https://www.letras.com/joe-arroyo/867579/ guardadas con éxito.\n",
            "Letras de https://www.letras.com/joe-arroyo/867543/ guardadas con éxito.\n",
            "Letras de https://www.letras.com/joe-arroyo/el-torito/ guardadas con éxito.\n",
            "Letras de https://www.letras.com/joe-arroyo/no-le-pegues-a-la-negra/ guardadas con éxito.\n",
            "Letras de https://www.letras.com/joe-arroyo/mary/ guardadas con éxito.\n",
            "Letras de https://www.letras.com/joe-arroyo/867578/ guardadas con éxito.\n",
            "Letras de https://www.letras.com/joe-arroyo/867588/ guardadas con éxito.\n",
            "Letras de https://www.letras.com/joe-arroyo/las-cajas/ guardadas con éxito.\n",
            "Letras de https://www.letras.com/joe-arroyo/1581747/ guardadas con éxito.\n",
            "Letras de https://www.letras.com/joe-arroyo/1583142/ guardadas con éxito.\n",
            "Letras de https://www.letras.com/joe-arroyo/tania/ guardadas con éxito.\n",
            "Letras de https://www.letras.com/joe-arroyo/1581748/ guardadas con éxito.\n",
            "Letras de https://www.letras.com/joe-arroyo/1581746/ guardadas con éxito.\n",
            "Letras de https://www.letras.com/joe-arroyo/teresa-vuelve/ guardadas con éxito.\n",
            "Proceso de guardado de letras completado.\n"
          ]
        }
      ],
      "source": [
        "import requests\n",
        "from bs4 import BeautifulSoup\n",
        "import time\n",
        "\n",
        "# Lista de URLs de canciones en letras.com (simulados)\n",
        "urls = [\n",
        "    'https://www.letras.com/diaz-diomedes/hija/',\n",
        "    'https://www.letras.com/diaz-diomedes/bonita/',\n",
        "    'https://www.letras.com/diaz-diomedes/mi-ahijado/',\n",
        "    'https://www.letras.com/diaz-diomedes/amores-que-se-van/',\n",
        "    'https://www.letras.com/diaz-diomedes/la-ventana-marroncita/',\n",
        "    'https://www.letras.com/diaz-diomedes/tu-cumpleanos/',\n",
        "    'https://www.letras.com/diaz-diomedes/nacio-mi-poesia/',\n",
        "    'https://www.letras.com/diaz-diomedes/mis-mejores-dias/',\n",
        "    'https://www.letras.com/diaz-diomedes/lloraras/',\n",
        "    'https://www.letras.com/diaz-diomedes/reina-de-mi-alma/',\n",
        "    'https://www.letras.com/diaz-diomedes/suenos-y-vivencias/',\n",
        "    'https://www.letras.com/diaz-diomedes/al-final-del-camino/',\n",
        "    'https://www.letras.com/diaz-diomedes/mi-primavera/',\n",
        "    'https://www.letras.com/diaz-diomedes/la-suerte-esta-echada/',\n",
        "    'https://www.letras.com/diaz-diomedes/camino-de-los-recuerdos/',\n",
        "    'https://www.letras.com/diaz-diomedes/entre-palos-y-estacas/',\n",
        "    'https://www.letras.com/diaz-diomedes/si-te-vas/',\n",
        "    'https://www.letras.com/diaz-diomedes/mi-biografia/',\n",
        "    'https://www.letras.com/diaz-diomedes/para-mi-familia/',\n",
        "    'https://www.letras.com/diaz-diomedes/la-fama/',\n",
        "    'https://www.letras.com/diaz-diomedes/el-cacique-y-el-fuete/',\n",
        "    'https://www.letras.com/diaz-diomedes/el-regreso-del-condor/',\n",
        "    'https://www.letras.com/diaz-diomedes/mis-mejores-anos/',\n",
        "    'https://www.letras.com/diaz-diomedes/donde-estas-corazon/',\n",
        "    'https://www.letras.com/diaz-diomedes/el-nino-del-amor/',\n",
        "    'https://www.letras.com/diaz-diomedes/la-ventana-abierta/',\n",
        "    'https://www.letras.com/diaz-diomedes/el-cariño/',\n",
        "    'https://www.letras.com/diaz-diomedes/mi-cantante-favorita/',\n",
        "    'https://www.letras.com/diaz-diomedes/el-rey-de-mi-alma/',\n",
        "    'https://www.letras.com/diaz-diomedes/mi-heredero/',\n",
        "    'https://www.letras.com/diaz-diomedes/el-mundo-sigue-igual/',\n",
        "    'https://www.letras.com/diaz-diomedes/corazon-loco/',\n",
        "    'https://www.letras.com/diaz-diomedes/mi-vida-cambio/',\n",
        "    'https://www.letras.com/diaz-diomedes/volver-a-la-vida/',\n",
        "    'https://www.letras.com/diaz-diomedes/el-nino-jesus/',\n",
        "    'https://www.letras.com/diaz-diomedes/siempre-te-amare/',\n",
        "    'https://www.letras.com/diaz-diomedes/te-quiero-mi-amor/',\n",
        "    'https://www.letras.com/diaz-diomedes/el-hijo-del-amor/',\n",
        "    'https://www.letras.com/diaz-diomedes/cancion-para-mi-madre/',\n",
        "    'https://www.letras.com/diaz-diomedes/por-ti-soy-feliz/',\n",
        "    'https://www.letras.com/diaz-diomedes/recuerdo-de-un-amor/',\n",
        "    'https://www.letras.com/diaz-diomedes/seras-mi-eterno-amor/',\n",
        "    'https://www.letras.com/diaz-diomedes/dios-me-ha-bendecido/',\n",
        "    'https://www.letras.com/diaz-diomedes/la-cancion-de-mi-vida/',\n",
        "    'https://www.letras.com/diaz-diomedes/el-querer-de-mi-alma/',\n",
        "    'https://www.letras.com/diaz-diomedes/la-vida-es-una-sola/',\n",
        "    'https://www.letras.com/diaz-diomedes/por-que-te-vas/',\n",
        "    'https://www.letras.com/diaz-diomedes/mis-alegrias/',\n",
        "    'https://www.letras.com/diaz-diomedes/nuestra-historia/',\n",
        "    'https://www.letras.com/diaz-diomedes/el-angel-de-mi-alma/',\n",
        "    'https://www.letras.com/diaz-diomedes/mi-corazon-es-tuyo/',\n",
        "    'https://www.letras.com/diaz-diomedes/la-dicha-de-quererte/',\n",
        "    'https://www.letras.com/diaz-diomedes/el-dolor-de-amor/',\n",
        "    'https://www.letras.com/diaz-diomedes/mi-alegria-es-tu-amor/',\n",
        "    'https://www.letras.com/diaz-diomedes/sentimiento-vallenato/',\n",
        "    'https://www.letras.com/diaz-diomedes/cancion-de-mi-pueblo/',\n",
        "    'https://www.letras.com/diaz-diomedes/tu-amor-es-para-siempre/',\n",
        "    'https://www.letras.com/diaz-diomedes/el-poder-del-amor/',\n",
        "    'https://www.letras.com/diaz-diomedes/mis-suenos-contigo/',\n",
        "    'https://www.letras.com/diaz-diomedes/el-amor-es-asi/',\n",
        "    'https://www.letras.com/diaz-diomedes/no-te-vayas-mi-amor/',\n",
        "    'https://www.letras.com/hector-lavoe/1013164/',\n",
        "    'https://www.letras.com/hector-lavoe/453110/',\n",
        "    'https://www.letras.com/hector-lavoe/581111/',\n",
        "    'https://www.letras.com/hector-lavoe/1576121/',\n",
        "    'https://www.letras.com/hector-lavoe/1681631/',\n",
        "    'https://www.letras.com/hector-lavoe/emborrachame-de-amor/',\n",
        "    'https://www.letras.com/hector-lavoe/581110/',\n",
        "    'https://www.letras.com/hector-lavoe/596142/',\n",
        "    'https://www.letras.com/hector-lavoe/escarcha/',\n",
        "    'https://www.letras.com/hector-lavoe/581109/',\n",
        "    'https://www.letras.com/hector-lavoe/la-fama/',\n",
        "    'https://www.letras.com/hector-lavoe/581108/',\n",
        "    'https://www.letras.com/hector-lavoe/607044/',\n",
        "    'https://www.letras.com/hector-lavoe/607043/',\n",
        "    'https://www.letras.com/hector-lavoe/661685/',\n",
        "    'https://www.letras.com/hector-lavoe/triste-y-vacia/',\n",
        "    'https://www.letras.com/hector-lavoe/tus-ojos/',\n",
        "    'https://www.letras.com/hector-lavoe/consejo-de-oro/',\n",
        "    'https://www.letras.com/hector-lavoe/loco/',\n",
        "    'https://www.letras.com/hector-lavoe/un-amor-de-la-calle/',\n",
        "    'https://www.letras.com/hector-lavoe/1576219/',\n",
        "    'https://www.letras.com/colon-willie/672833/',\n",
        "    'https://www.letras.com/colon-willie/agualile/',\n",
        "    'https://www.letras.com/colon-willie/1594658/',\n",
        "    'https://www.letras.com/colon-willie/827170/',\n",
        "    'https://www.letras.com/colon-willie/1594652/',\n",
        "    'https://www.letras.com/colon-willie/755793/',\n",
        "    'https://www.letras.com/colon-willie/asia/',\n",
        "    'https://www.letras.com/colon-willie/1594390/',\n",
        "    'https://www.letras.com/colon-willie/827171/',\n",
        "    'https://www.letras.com/colon-willie/1594391/',\n",
        "    'https://www.letras.com/colon-willie/675763/',\n",
        "    'https://www.letras.com/colon-willie/carmelina/',\n",
        "    'https://www.letras.com/colon-willie/755794/',\n",
        "    'https://www.letras.com/colon-willie/1594400/',\n",
        "    'https://www.letras.com/colon-willie/color-americano/',\n",
        "    'https://www.letras.com/colon-willie/675764/',\n",
        "    'https://www.letras.com/colon-willie/1594651/',\n",
        "    'https://www.letras.com/colon-willie/1594393/',\n",
        "    'https://www.letras.com/colon-willie/675765/',\n",
        "    'https://www.letras.com/colon-willie/el-diablo/',\n",
        "    'https://www.letras.com/colon-willie/eso-se-baila-asi/',\n",
        "    'https://www.letras.com/colon-willie/755795/',\n",
        "    'https://www.letras.com/colon-willie/8262/',\n",
        "    'https://www.letras.com/colon-willie/755796/',\n",
        "    'https://www.letras.com/colon-willie/675768/',\n",
        "    'https://www.letras.com/colon-willie/672831/',\n",
        "    'https://www.letras.com/colon-willie/los-olores-del-amor/',\n",
        "    'https://www.letras.com/colon-willie/755797/',\n",
        "    'https://www.letras.com/colon-willie/1594389/',\n",
        "    'https://www.letras.com/colon-willie/narcomula/',\n",
        "    'https://www.letras.com/colon-willie/no/',\n",
        "    'https://www.letras.com/colon-willie/no-me-fio-mas/',\n",
        "    'https://www.letras.com/colon-willie/1819351/',\n",
        "    'https://www.letras.com/colon-willie/672840/',\n",
        "    'https://www.letras.com/colon-willie/1594392/',\n",
        "    'https://www.letras.com/colon-willie/pregunta-por-ahi/',\n",
        "    'https://www.letras.com/colon-willie/755798/',\n",
        "    'https://www.letras.com/colon-willie/827172/',\n",
        "    'https://www.letras.com/colon-willie/1594650/',\n",
        "    'https://www.letras.com/colon-willie/417303/',\n",
        "    'https://www.letras.com/colon-willie/417303/',\n",
        "    'https://www.letras.com/colon-willie/672832/',\n",
        "    'https://www.letras.com/colon-willie/soltera/',\n",
        "    'https://www.letras.com/colon-willie/675770/',\n",
        "    'https://www.letras.com/colon-willie/tiempo-pa-matar/',\n",
        "    'https://www.letras.com/colon-willie/1594387/',\n",
        "    'https://www.letras.com/joe-arroyo/867589/',\n",
        "    'https://www.letras.com/joe-arroyo/1581744/',\n",
        "    'https://www.letras.com/joe-arroyo/tamarindo-seco/',\n",
        "    'https://www.letras.com/joe-arroyo/867586/',\n",
        "    'https://www.letras.com/joe-arroyo/867591/',\n",
        "    'https://www.letras.com/joe-arroyo/867590/',\n",
        "    'https://www.letras.com/joe-arroyo/867579/',\n",
        "    'https://www.letras.com/joe-arroyo/867543/',\n",
        "    'https://www.letras.com/joe-arroyo/el-torito/',\n",
        "    'https://www.letras.com/joe-arroyo/no-le-pegues-a-la-negra/',\n",
        "    'https://www.letras.com/joe-arroyo/mary/',\n",
        "    'https://www.letras.com/joe-arroyo/867578/',\n",
        "    'https://www.letras.com/joe-arroyo/867588/',\n",
        "    'https://www.letras.com/joe-arroyo/las-cajas/',\n",
        "    'https://www.letras.com/joe-arroyo/1581747/',\n",
        "    'https://www.letras.com/joe-arroyo/1583142/',\n",
        "    'https://www.letras.com/joe-arroyo/tania/',\n",
        "    'https://www.letras.com/joe-arroyo/1581748/',\n",
        "    'https://www.letras.com/joe-arroyo/1581746/',\n",
        "    'https://www.letras.com/joe-arroyo/teresa-vuelve/'\n",
        "\n",
        "\n",
        "]\n",
        "# Crear archivo para guardar las\n",
        "# Crear archivo para guardar las letras\n",
        "max_palabras_por_seccion = 20\n",
        "with open('letras_diomedes_diaz.txt', 'w', encoding='utf-8') as file:\n",
        "    for url in urls:\n",
        "        try:\n",
        "            # Hacer una solicitud a la página y forzar UTF-8\n",
        "            response = requests.get(url)\n",
        "            response.encoding = 'utf-8'\n",
        "\n",
        "            if response.status_code == 200:\n",
        "                soup = BeautifulSoup(response.text, 'html.parser')\n",
        "\n",
        "                # Buscar el contenedor de la letra\n",
        "                letra_section = soup.find('div', {'class': 'lyric-original'})\n",
        "                if letra_section:\n",
        "                    # Extraer el texto de cada párrafo y preservar saltos de línea\n",
        "                    parrafos = letra_section.find_all('p')\n",
        "                    letra = \"\\n\".join(p.get_text().strip() for p in parrafos)\n",
        "\n",
        "                    # Insertar salto de línea antes de cada palabra que empieza con una mayúscula en el medio de una frase\n",
        "                    letra_procesada = re.sub(r'(?<!^)(?<!\\.\\s)(?=[A-Z])', '\\n', letra)\n",
        "\n",
        "                    # Dividir la letra en secciones cada cierto número de palabras\n",
        "                    palabras = letra_procesada.split()\n",
        "                    secciones = [\n",
        "                        \" \".join(palabras[i:i + max_palabras_por_seccion])\n",
        "                        for i in range(0, len(palabras), max_palabras_por_seccion)\n",
        "                    ]\n",
        "\n",
        "                    # Escribir cada sección de la canción en el archivo sin línea en blanco adicional\n",
        "                    for seccion in secciones:\n",
        "                        file.write(seccion + \"\\n\")  # Usa solo un salto de línea\n",
        "\n",
        "                    print(f\"Letras de {url} guardadas con éxito.\")\n",
        "                else:\n",
        "                    print(f\"No se encontró la sección de letra en {url}\")\n",
        "            else:\n",
        "                print(f\"Error al acceder a {url}\")\n",
        "        except Exception as e:\n",
        "            print(f\"Error procesando {url}: {e}\")\n",
        "\n",
        "        time.sleep(2)  # Espera de 2 segundos entre solicitudes\n",
        "\n",
        "print(\"Proceso de guardado de letras completado.\")"
      ]
    },
    {
      "cell_type": "code",
      "execution_count": null,
      "metadata": {
        "colab": {
          "base_uri": "https://localhost:8080/"
        },
        "id": "32IhYZNogk3E",
        "outputId": "48795c08-ec46-4fac-d224-7bce28337b9c"
      },
      "outputs": [
        {
          "name": "stdout",
          "output_type": "stream",
          "text": [
            "El archivo contiene 2105 líneas.\n"
          ]
        }
      ],
      "source": [
        "# Supongamos que ya tienes un archivo llamado 'letras_diomedes_diaz.txt'\n",
        "\n",
        "# Contar el número de líneas en el archivo\n",
        "with open('letras_diomedes_diaz.txt', 'r', encoding='utf-8') as file:\n",
        "    lineas = file.readlines()\n",
        "    num_lineas = len(lineas)\n",
        "\n",
        "print(f'El archivo contiene {num_lineas} líneas.')\n"
      ]
    },
    {
      "cell_type": "code",
      "execution_count": null,
      "metadata": {
        "id": "Jhu5EVZHqGSm"
      },
      "outputs": [],
      "source": [
        "import numpy as np\n",
        "from tensorflow.keras.preprocessing.text import Tokenizer\n",
        "from tensorflow.keras.utils import to_categorical\n",
        "from tensorflow.keras.models import Sequential\n",
        "from tensorflow.keras.layers import Embedding, LSTM, Dense, Dropout, Bidirectional, BatchNormalization\n",
        "from tensorflow.keras.preprocessing.sequence import pad_sequences\n",
        "import random\n"
      ]
    },
    {
      "cell_type": "code",
      "execution_count": null,
      "metadata": {
        "colab": {
          "base_uri": "https://localhost:8080/"
        },
        "id": "tUjUwjr3X6qc",
        "outputId": "41c42c27-8da8-4d23-b378-9348c93b2ff1"
      },
      "outputs": [
        {
          "name": "stdout",
          "output_type": "stream",
          "text": [
            "Collecting unidecode\n",
            "  Downloading Unidecode-1.3.8-py3-none-any.whl.metadata (13 kB)\n",
            "Downloading Unidecode-1.3.8-py3-none-any.whl (235 kB)\n",
            "\u001b[?25l   \u001b[90m━━━━━━━━━━━━━━━━━━━━━━━━━━━━━━━━━━━━━━━━\u001b[0m \u001b[32m0.0/235.5 kB\u001b[0m \u001b[31m?\u001b[0m eta \u001b[36m-:--:--\u001b[0m\r\u001b[2K   \u001b[90m━━━━━━━━━━━━━━━━━━━━━━━━━━━━━━━━━━━━━━━━\u001b[0m \u001b[32m235.5/235.5 kB\u001b[0m \u001b[31m8.1 MB/s\u001b[0m eta \u001b[36m0:00:00\u001b[0m\n",
            "\u001b[?25hInstalling collected packages: unidecode\n",
            "Successfully installed unidecode-1.3.8\n"
          ]
        }
      ],
      "source": [
        "!pip install unidecode\n",
        "\n"
      ]
    },
    {
      "cell_type": "code",
      "execution_count": null,
      "metadata": {
        "id": "FvMgEIt7PUPC"
      },
      "outputs": [],
      "source": [
        "# Importamos las librerías necesarias\n",
        "import re\n",
        "import numpy as np\n",
        "import pandas as pd\n",
        "from tensorflow.keras.preprocessing.text import Tokenizer\n",
        "from tensorflow.keras.preprocessing.sequence import pad_sequences\n",
        "from tensorflow.keras.utils import to_categorical\n",
        "\n",
        "import re\n",
        "import numpy as np\n",
        "from unidecode import unidecode\n",
        "from tensorflow.keras.preprocessing.text import Tokenizer\n",
        "from tensorflow.keras.preprocessing.sequence import pad_sequences\n",
        "from tensorflow.keras.utils import to_categorical\n",
        "from tensorflow.keras.models import Sequential\n",
        "from tensorflow.keras.layers import Embedding, SimpleRNN, Dense\n"
      ]
    },
    {
      "cell_type": "code",
      "execution_count": null,
      "metadata": {
        "colab": {
          "base_uri": "https://localhost:8080/"
        },
        "id": "Gz9lMKQLPRxD",
        "outputId": "f161771c-670f-4eaa-952b-9056f92f005e"
      },
      "outputs": [
        {
          "name": "stdout",
          "output_type": "stream",
          "text": [
            "Ejemplo de datos: ['como nace el viento, como llega el verso apareciste tu llenandolo todo abarcandolo todo de donde es la dicha apareciste', 'tu mi nina es tan bella, que le dicen reina una multitud eso sienten otros, eso viven otros y mas', 'que su reina, quiero que seas tu hija tanto puedo amarte, pero no puedo ordenarte toda tu felicidad, aunque quisiera', 'salvarte hay un mundo inevitable que por ti debes andar que linda es mi nina sonriendose burlando la vida, sonriendose', 'un abrazo tuyo me hace olvidar el pesar mas grande abrazandome hay veces que temo algun dia sus suenos puedan', 'ser frenados, y no este a su lado para protegerla pero entonces canta, y luego me habla, y brilla su', 'vida y ya se que nada puede detenerla hija yo te quiero mucho, no lo olvides en el mundo que', 'tu debes conquistar antes que llegaras, de besar tu cara yo te amaba ya desde el infinito, desde lo mas', 'lindo y por muchas vidas yo te amaba ya yo podria esforzarme y a tus pies plantarte lo que quieras', 'tu la vana existencia, la simple existencia como de una reina mejor hazla tu hija nunca tengas miedo de decir']\n",
            "Tamaño del vocabulario: 4332\n",
            "Primeras 5 secuencias n-gram: [[21, 191], [21, 191, 6], [21, 191, 6, 564], [21, 191, 6, 564, 21], [21, 191, 6, 564, 21, 181]]\n",
            "Forma de las secuencias después de padding: (38805, 20)\n",
            "Forma de X: (38805, 19)\n",
            "Forma de y: (38805, 4332)\n"
          ]
        }
      ],
      "source": [
        "\n",
        "# 1. Cargar y procesar los datos sin eliminar caracteres especiales\n",
        "with open('letras_diomedes_diaz.txt', 'r', encoding='utf-8') as file:\n",
        "    datos = file.read().splitlines()\n",
        "\n",
        "# Convertir a minúsculas y reemplazar caracteres acentuados con `unidecode`\n",
        "datos = [unidecode(linea.lower()) for linea in datos if linea.strip()]\n",
        "print(\"Ejemplo de datos:\", datos[:10])\n",
        "\n",
        "# 2. Tokenización y encoding\n",
        "tokenizer = Tokenizer()\n",
        "tokenizer.fit_on_texts(datos)\n",
        "encoded_text = tokenizer.texts_to_sequences(datos)\n",
        "\n",
        "# Obtener el tamaño del vocabulario\n",
        "vocab_size = len(tokenizer.word_index) + 1\n",
        "print(\"Tamaño del vocabulario:\", vocab_size)\n",
        "\n",
        "# 3. Generación de secuencias n-gram\n",
        "sequences = []\n",
        "for line in encoded_text:\n",
        "    for i in range(2, len(line) + 1):\n",
        "        sequences.append(line[:i])\n",
        "\n",
        "print(\"Primeras 5 secuencias n-gram:\", sequences[:5])\n",
        "\n",
        "# 4. Padding\n",
        "max_sequence_len = 20  # longitud máxima de las secuencias\n",
        "sequences = pad_sequences(sequences, maxlen=max_sequence_len, padding='pre')\n",
        "print(\"Forma de las secuencias después de padding:\", sequences.shape)\n",
        "\n",
        "# 5. Separación de variables predictoras (X) y variable de respuesta (y)\n",
        "X, y = sequences[:,:-1], sequences[:,-1]\n",
        "y = to_categorical(y, num_classes=vocab_size)\n",
        "\n",
        "print(\"Forma de X:\", X.shape)\n",
        "print(\"Forma de y:\", y.shape)"
      ]
    },
    {
      "cell_type": "code",
      "execution_count": null,
      "metadata": {
        "id": "TDwmo6B0PBl7"
      },
      "outputs": [],
      "source": [
        "\n",
        "\n",
        "# 6. Creación del modelo RNN\n",
        "model = Sequential()\n",
        "model.add(Embedding(vocab_size, 50, input_length=max_sequence_len - 1))\n",
        "model.add(SimpleRNN(100, return_sequences=True))\n",
        "model.add(SimpleRNN(100))\n",
        "model.add(Dense(100, activation=\"relu\"))\n",
        "model.add(Dense(vocab_size, activation=\"softmax\"))\n",
        "\n",
        "# Compilación del modelo\n",
        "model.compile(loss=\"categorical_crossentropy\", optimizer=\"adam\", metrics=[\"accuracy\"])\n"
      ]
    },
    {
      "cell_type": "code",
      "execution_count": null,
      "metadata": {
        "colab": {
          "base_uri": "https://localhost:8080/",
          "height": 780
        },
        "id": "FfwJX4NoRT7H",
        "outputId": "fbc075b2-8afb-40ac-d1ca-da2ddad04173"
      },
      "outputs": [
        {
          "data": {
            "image/png": "[encoded data removed]",
            "text/plain": [
              "<IPython.core.display.Image object>"
            ]
          },
          "execution_count": 20,
          "metadata": {},
          "output_type": "execute_result"
        }
      ],
      "source": [
        "from tensorflow.keras.utils import plot_model\n",
        "model.build(input_shape=(None, max_sequence_len - 1))  # None para el tamaño de batch dinámico\n",
        "\n",
        "# Graficar el modelo\n",
        "plot_model(\n",
        "    model,\n",
        "    to_file=\"model_plot.png\",\n",
        "    show_shapes=True,\n",
        "    show_layer_names=True,\n",
        "    dpi=96\n",
        ")"
      ]
    },
    {
      "cell_type": "code",
      "execution_count": null,
      "metadata": {
        "colab": {
          "base_uri": "https://localhost:8080/"
        },
        "id": "rV6Bh9xwrAWX",
        "outputId": "4e911cb6-616c-4272-f52a-e8b997061d7f"
      },
      "outputs": [
        {
          "name": "stdout",
          "output_type": "stream",
          "text": [
            "Ejemplo de datos: ['como nace el viento, como llega el verso apareciste tu llenandolo todo abarcandolo todo de donde es la dicha apareciste', 'tu mi nina es tan bella, que le dicen reina una multitud eso sienten otros, eso viven otros y mas', 'que su reina, quiero que seas tu hija tanto puedo amarte, pero no puedo ordenarte toda tu felicidad, aunque quisiera', 'salvarte hay un mundo inevitable que por ti debes andar que linda es mi nina sonriendose burlando la vida, sonriendose', 'un abrazo tuyo me hace olvidar el pesar mas grande abrazandome hay veces que temo algun dia sus suenos puedan', 'ser frenados, y no este a su lado para protegerla pero entonces canta, y luego me habla, y brilla su', 'vida y ya se que nada puede detenerla hija yo te quiero mucho, no lo olvides en el mundo que', 'tu debes conquistar antes que llegaras, de besar tu cara yo te amaba ya desde el infinito, desde lo mas', 'lindo y por muchas vidas yo te amaba ya yo podria esforzarme y a tus pies plantarte lo que quieras', 'tu la vana existencia, la simple existencia como de una reina mejor hazla tu hija nunca tengas miedo de decir']\n",
            "Tamaño del vocabulario: 4247\n",
            "Primeras 5 secuencias n-gram: [[19, 199], [19, 199, 6], [19, 199, 6, 496], [19, 199, 6, 496, 19], [19, 199, 6, 496, 19, 129]]\n",
            "Forma de las secuencias después de padding: (38131, 20)\n",
            "Forma de X: (38131, 19)\n",
            "Forma de y: (38131, 4247)\n"
          ]
        },
        {
          "name": "stderr",
          "output_type": "stream",
          "text": [
            "/usr/local/lib/python3.10/dist-packages/keras/src/layers/core/embedding.py:90: UserWarning: Argument `input_length` is deprecated. Just remove it.\n",
            "  warnings.warn(\n"
          ]
        },
        {
          "name": "stdout",
          "output_type": "stream",
          "text": [
            "Epoch 1/100\n",
            "\u001b[1m1192/1192\u001b[0m \u001b[32m━━━━━━━━━━━━━━━━━━━━\u001b[0m\u001b[37m\u001b[0m \u001b[1m41s\u001b[0m 29ms/step - accuracy: 0.0466 - loss: 6.6205\n",
            "Epoch 2/100\n",
            "\u001b[1m1192/1192\u001b[0m \u001b[32m━━━━━━━━━━━━━━━━━━━━\u001b[0m\u001b[37m\u001b[0m \u001b[1m35s\u001b[0m 29ms/step - accuracy: 0.0551 - loss: 5.9682\n",
            "Epoch 3/100\n",
            "\u001b[1m1192/1192\u001b[0m \u001b[32m━━━━━━━━━━━━━━━━━━━━\u001b[0m\u001b[37m\u001b[0m \u001b[1m41s\u001b[0m 29ms/step - accuracy: 0.0621 - loss: 5.6848\n",
            "Epoch 4/100\n",
            "\u001b[1m1192/1192\u001b[0m \u001b[32m━━━━━━━━━━━━━━━━━━━━\u001b[0m\u001b[37m\u001b[0m \u001b[1m41s\u001b[0m 30ms/step - accuracy: 0.0819 - loss: 5.4279\n",
            "Epoch 5/100\n",
            "\u001b[1m1192/1192\u001b[0m \u001b[32m━━━━━━━━━━━━━━━━━━━━\u001b[0m\u001b[37m\u001b[0m \u001b[1m40s\u001b[0m 29ms/step - accuracy: 0.1051 - loss: 5.1780\n",
            "Epoch 6/100\n",
            "\u001b[1m1192/1192\u001b[0m \u001b[32m━━━━━━━━━━━━━━━━━━━━\u001b[0m\u001b[37m\u001b[0m \u001b[1m43s\u001b[0m 31ms/step - accuracy: 0.1364 - loss: 4.9093\n",
            "Epoch 7/100\n",
            "\u001b[1m1192/1192\u001b[0m \u001b[32m━━━━━━━━━━━━━━━━━━━━\u001b[0m\u001b[37m\u001b[0m \u001b[1m41s\u001b[0m 31ms/step - accuracy: 0.1722 - loss: 4.6024\n",
            "Epoch 8/100\n",
            "\u001b[1m1192/1192\u001b[0m \u001b[32m━━━━━━━━━━━━━━━━━━━━\u001b[0m\u001b[37m\u001b[0m \u001b[1m38s\u001b[0m 28ms/step - accuracy: 0.1977 - loss: 4.4019\n",
            "Epoch 9/100\n",
            "\u001b[1m1192/1192\u001b[0m \u001b[32m━━━━━━━━━━━━━━━━━━━━\u001b[0m\u001b[37m\u001b[0m \u001b[1m36s\u001b[0m 30ms/step - accuracy: 0.2379 - loss: 4.1266\n",
            "Epoch 10/100\n",
            "\u001b[1m1192/1192\u001b[0m \u001b[32m━━━━━━━━━━━━━━━━━━━━\u001b[0m\u001b[37m\u001b[0m \u001b[1m34s\u001b[0m 28ms/step - accuracy: 0.2671 - loss: 3.8763\n",
            "Epoch 11/100\n",
            "\u001b[1m1192/1192\u001b[0m \u001b[32m━━━━━━━━━━━━━━━━━━━━\u001b[0m\u001b[37m\u001b[0m \u001b[1m45s\u001b[0m 32ms/step - accuracy: 0.2974 - loss: 3.6482\n",
            "Epoch 12/100\n",
            "\u001b[1m1192/1192\u001b[0m \u001b[32m━━━━━━━━━━━━━━━━━━━━\u001b[0m\u001b[37m\u001b[0m \u001b[1m44s\u001b[0m 35ms/step - accuracy: 0.3188 - loss: 3.4998\n",
            "Epoch 13/100\n",
            "\u001b[1m1192/1192\u001b[0m \u001b[32m━━━━━━━━━━━━━━━━━━━━\u001b[0m\u001b[37m\u001b[0m \u001b[1m78s\u001b[0m 31ms/step - accuracy: 0.3514 - loss: 3.2743\n",
            "Epoch 14/100\n",
            "\u001b[1m1192/1192\u001b[0m \u001b[32m━━━━━━━━━━━━━━━━━━━━\u001b[0m\u001b[37m\u001b[0m \u001b[1m41s\u001b[0m 31ms/step - accuracy: 0.3759 - loss: 3.1269\n",
            "Epoch 15/100\n",
            "\u001b[1m1192/1192\u001b[0m \u001b[32m━━━━━━━━━━━━━━━━━━━━\u001b[0m\u001b[37m\u001b[0m \u001b[1m41s\u001b[0m 31ms/step - accuracy: 0.3991 - loss: 2.9550\n",
            "Epoch 16/100\n",
            "\u001b[1m1192/1192\u001b[0m \u001b[32m━━━━━━━━━━━━━━━━━━━━\u001b[0m\u001b[37m\u001b[0m \u001b[1m42s\u001b[0m 32ms/step - accuracy: 0.4253 - loss: 2.7899\n",
            "Epoch 17/100\n",
            "\u001b[1m1192/1192\u001b[0m \u001b[32m━━━━━━━━━━━━━━━━━━━━\u001b[0m\u001b[37m\u001b[0m \u001b[1m37s\u001b[0m 28ms/step - accuracy: 0.4475 - loss: 2.6714\n",
            "Epoch 18/100\n",
            "\u001b[1m1192/1192\u001b[0m \u001b[32m━━━━━━━━━━━━━━━━━━━━\u001b[0m\u001b[37m\u001b[0m \u001b[1m45s\u001b[0m 32ms/step - accuracy: 0.4594 - loss: 2.5621\n",
            "Epoch 19/100\n",
            "\u001b[1m1192/1192\u001b[0m \u001b[32m━━━━━━━━━━━━━━━━━━━━\u001b[0m\u001b[37m\u001b[0m \u001b[1m39s\u001b[0m 30ms/step - accuracy: 0.4755 - loss: 2.4648\n",
            "Epoch 20/100\n",
            "\u001b[1m1192/1192\u001b[0m \u001b[32m━━━━━━━━━━━━━━━━━━━━\u001b[0m\u001b[37m\u001b[0m \u001b[1m41s\u001b[0m 30ms/step - accuracy: 0.4981 - loss: 2.3442\n",
            "Epoch 21/100\n",
            "\u001b[1m1192/1192\u001b[0m \u001b[32m━━━━━━━━━━━━━━━━━━━━\u001b[0m\u001b[37m\u001b[0m \u001b[1m41s\u001b[0m 29ms/step - accuracy: 0.5195 - loss: 2.2117\n",
            "Epoch 22/100\n",
            "\u001b[1m1192/1192\u001b[0m \u001b[32m━━━━━━━━━━━━━━━━━━━━\u001b[0m\u001b[37m\u001b[0m \u001b[1m42s\u001b[0m 30ms/step - accuracy: 0.5316 - loss: 2.1436\n",
            "Epoch 23/100\n",
            "\u001b[1m1192/1192\u001b[0m \u001b[32m━━━━━━━━━━━━━━━━━━━━\u001b[0m\u001b[37m\u001b[0m \u001b[1m33s\u001b[0m 28ms/step - accuracy: 0.5512 - loss: 2.0340\n",
            "Epoch 24/100\n",
            "\u001b[1m1192/1192\u001b[0m \u001b[32m━━━━━━━━━━━━━━━━━━━━\u001b[0m\u001b[37m\u001b[0m \u001b[1m42s\u001b[0m 29ms/step - accuracy: 0.5648 - loss: 1.9542\n",
            "Epoch 25/100\n",
            "\u001b[1m1192/1192\u001b[0m \u001b[32m━━━━━━━━━━━━━━━━━━━━\u001b[0m\u001b[37m\u001b[0m \u001b[1m40s\u001b[0m 28ms/step - accuracy: 0.5775 - loss: 1.8812\n",
            "Epoch 26/100\n",
            "\u001b[1m1192/1192\u001b[0m \u001b[32m━━━━━━━━━━━━━━━━━━━━\u001b[0m\u001b[37m\u001b[0m \u001b[1m35s\u001b[0m 29ms/step - accuracy: 0.5889 - loss: 1.8221\n",
            "Epoch 27/100\n",
            "\u001b[1m1192/1192\u001b[0m \u001b[32m━━━━━━━━━━━━━━━━━━━━\u001b[0m\u001b[37m\u001b[0m \u001b[1m42s\u001b[0m 29ms/step - accuracy: 0.5960 - loss: 1.7698\n",
            "Epoch 28/100\n",
            "\u001b[1m1192/1192\u001b[0m \u001b[32m━━━━━━━━━━━━━━━━━━━━\u001b[0m\u001b[37m\u001b[0m \u001b[1m40s\u001b[0m 29ms/step - accuracy: 0.6059 - loss: 1.7260\n",
            "Epoch 29/100\n",
            "\u001b[1m1192/1192\u001b[0m \u001b[32m━━━━━━━━━━━━━━━━━━━━\u001b[0m\u001b[37m\u001b[0m \u001b[1m34s\u001b[0m 28ms/step - accuracy: 0.6219 - loss: 1.6579\n",
            "Epoch 30/100\n",
            "\u001b[1m1192/1192\u001b[0m \u001b[32m━━━━━━━━━━━━━━━━━━━━\u001b[0m\u001b[37m\u001b[0m \u001b[1m44s\u001b[0m 31ms/step - accuracy: 0.6273 - loss: 1.6145\n",
            "Epoch 31/100\n",
            "\u001b[1m1192/1192\u001b[0m \u001b[32m━━━━━━━━━━━━━━━━━━━━\u001b[0m\u001b[37m\u001b[0m \u001b[1m35s\u001b[0m 29ms/step - accuracy: 0.6400 - loss: 1.5628\n",
            "Epoch 32/100\n",
            "\u001b[1m1192/1192\u001b[0m \u001b[32m━━━━━━━━━━━━━━━━━━━━\u001b[0m\u001b[37m\u001b[0m \u001b[1m40s\u001b[0m 28ms/step - accuracy: 0.6465 - loss: 1.5585\n",
            "Epoch 33/100\n",
            "\u001b[1m1192/1192\u001b[0m \u001b[32m━━━━━━━━━━━━━━━━━━━━\u001b[0m\u001b[37m\u001b[0m \u001b[1m41s\u001b[0m 28ms/step - accuracy: 0.6423 - loss: 1.5717\n",
            "Epoch 34/100\n",
            "\u001b[1m1192/1192\u001b[0m \u001b[32m━━━━━━━━━━━━━━━━━━━━\u001b[0m\u001b[37m\u001b[0m \u001b[1m42s\u001b[0m 29ms/step - accuracy: 0.6619 - loss: 1.4673\n",
            "Epoch 35/100\n",
            "\u001b[1m1192/1192\u001b[0m \u001b[32m━━━━━━━━━━━━━━━━━━━━\u001b[0m\u001b[37m\u001b[0m \u001b[1m44s\u001b[0m 31ms/step - accuracy: 0.6835 - loss: 1.3618\n",
            "Epoch 36/100\n",
            "\u001b[1m1192/1192\u001b[0m \u001b[32m━━━━━━━━━━━━━━━━━━━━\u001b[0m\u001b[37m\u001b[0m \u001b[1m34s\u001b[0m 28ms/step - accuracy: 0.6836 - loss: 1.3557\n",
            "Epoch 37/100\n",
            "\u001b[1m1192/1192\u001b[0m \u001b[32m━━━━━━━━━━━━━━━━━━━━\u001b[0m\u001b[37m\u001b[0m \u001b[1m40s\u001b[0m 28ms/step - accuracy: 0.6964 - loss: 1.2962\n",
            "Epoch 38/100\n",
            "\u001b[1m1192/1192\u001b[0m \u001b[32m━━━━━━━━━━━━━━━━━━━━\u001b[0m\u001b[37m\u001b[0m \u001b[1m35s\u001b[0m 29ms/step - accuracy: 0.6906 - loss: 1.3071\n",
            "Epoch 39/100\n",
            "\u001b[1m1192/1192\u001b[0m \u001b[32m━━━━━━━━━━━━━━━━━━━━\u001b[0m\u001b[37m\u001b[0m \u001b[1m43s\u001b[0m 31ms/step - accuracy: 0.6962 - loss: 1.2743\n",
            "Epoch 40/100\n",
            "\u001b[1m1192/1192\u001b[0m \u001b[32m━━━━━━━━━━━━━━━━━━━━\u001b[0m\u001b[37m\u001b[0m \u001b[1m35s\u001b[0m 30ms/step - accuracy: 0.7062 - loss: 1.2177\n",
            "Epoch 41/100\n",
            "\u001b[1m1192/1192\u001b[0m \u001b[32m━━━━━━━━━━━━━━━━━━━━\u001b[0m\u001b[37m\u001b[0m \u001b[1m42s\u001b[0m 30ms/step - accuracy: 0.7139 - loss: 1.1781\n",
            "Epoch 42/100\n",
            "\u001b[1m1192/1192\u001b[0m \u001b[32m━━━━━━━━━━━━━━━━━━━━\u001b[0m\u001b[37m\u001b[0m \u001b[1m42s\u001b[0m 31ms/step - accuracy: 0.7163 - loss: 1.1889\n",
            "Epoch 43/100\n",
            "\u001b[1m1192/1192\u001b[0m \u001b[32m━━━━━━━━━━━━━━━━━━━━\u001b[0m\u001b[37m\u001b[0m \u001b[1m41s\u001b[0m 31ms/step - accuracy: 0.7228 - loss: 1.1420\n",
            "Epoch 44/100\n",
            "\u001b[1m1192/1192\u001b[0m \u001b[32m━━━━━━━━━━━━━━━━━━━━\u001b[0m\u001b[37m\u001b[0m \u001b[1m41s\u001b[0m 31ms/step - accuracy: 0.7343 - loss: 1.1223\n",
            "Epoch 45/100\n",
            "\u001b[1m1192/1192\u001b[0m \u001b[32m━━━━━━━━━━━━━━━━━━━━\u001b[0m\u001b[37m\u001b[0m \u001b[1m41s\u001b[0m 31ms/step - accuracy: 0.7273 - loss: 1.1239\n",
            "Epoch 46/100\n",
            "\u001b[1m1192/1192\u001b[0m \u001b[32m━━━━━━━━━━━━━━━━━━━━\u001b[0m\u001b[37m\u001b[0m \u001b[1m37s\u001b[0m 31ms/step - accuracy: 0.7429 - loss: 1.0740\n",
            "Epoch 47/100\n",
            "\u001b[1m1192/1192\u001b[0m \u001b[32m━━━━━━━━━━━━━━━━━━━━\u001b[0m\u001b[37m\u001b[0m \u001b[1m42s\u001b[0m 35ms/step - accuracy: 0.7362 - loss: 1.1056\n",
            "Epoch 48/100\n",
            "\u001b[1m1192/1192\u001b[0m \u001b[32m━━━━━━━━━━━━━━━━━━━━\u001b[0m\u001b[37m\u001b[0m \u001b[1m75s\u001b[0m 29ms/step - accuracy: 0.7500 - loss: 1.0464\n",
            "Epoch 49/100\n",
            "\u001b[1m1192/1192\u001b[0m \u001b[32m━━━━━━━━━━━━━━━━━━━━\u001b[0m\u001b[37m\u001b[0m \u001b[1m40s\u001b[0m 29ms/step - accuracy: 0.7467 - loss: 1.0486\n",
            "Epoch 50/100\n",
            "\u001b[1m1192/1192\u001b[0m \u001b[32m━━━━━━━━━━━━━━━━━━━━\u001b[0m\u001b[37m\u001b[0m \u001b[1m35s\u001b[0m 30ms/step - accuracy: 0.7508 - loss: 1.0265\n",
            "Epoch 51/100\n",
            "\u001b[1m1192/1192\u001b[0m \u001b[32m━━━━━━━━━━━━━━━━━━━━\u001b[0m\u001b[37m\u001b[0m \u001b[1m41s\u001b[0m 29ms/step - accuracy: 0.7544 - loss: 0.9850\n",
            "Epoch 52/100\n",
            "\u001b[1m1192/1192\u001b[0m \u001b[32m━━━━━━━━━━━━━━━━━━━━\u001b[0m\u001b[37m\u001b[0m \u001b[1m43s\u001b[0m 31ms/step - accuracy: 0.7598 - loss: 0.9630\n",
            "Epoch 53/100\n",
            "\u001b[1m1192/1192\u001b[0m \u001b[32m━━━━━━━━━━━━━━━━━━━━\u001b[0m\u001b[37m\u001b[0m \u001b[1m38s\u001b[0m 32ms/step - accuracy: 0.7263 - loss: 1.1307\n",
            "Epoch 54/100\n",
            "\u001b[1m1192/1192\u001b[0m \u001b[32m━━━━━━━━━━━━━━━━━━━━\u001b[0m\u001b[37m\u001b[0m \u001b[1m34s\u001b[0m 29ms/step - accuracy: 0.7322 - loss: 1.0866\n",
            "Epoch 55/100\n",
            "\u001b[1m1192/1192\u001b[0m \u001b[32m━━━━━━━━━━━━━━━━━━━━\u001b[0m\u001b[37m\u001b[0m \u001b[1m40s\u001b[0m 28ms/step - accuracy: 0.7876 - loss: 0.8591\n",
            "Epoch 56/100\n",
            "\u001b[1m1192/1192\u001b[0m \u001b[32m━━━━━━━━━━━━━━━━━━━━\u001b[0m\u001b[37m\u001b[0m \u001b[1m37s\u001b[0m 31ms/step - accuracy: 0.7932 - loss: 0.8325\n",
            "Epoch 57/100\n",
            "\u001b[1m1192/1192\u001b[0m \u001b[32m━━━━━━━━━━━━━━━━━━━━\u001b[0m\u001b[37m\u001b[0m \u001b[1m41s\u001b[0m 31ms/step - accuracy: 0.7956 - loss: 0.8130\n",
            "Epoch 58/100\n",
            "\u001b[1m1192/1192\u001b[0m \u001b[32m━━━━━━━━━━━━━━━━━━━━\u001b[0m\u001b[37m\u001b[0m \u001b[1m38s\u001b[0m 28ms/step - accuracy: 0.7910 - loss: 0.8366\n",
            "Epoch 59/100\n",
            "\u001b[1m1192/1192\u001b[0m \u001b[32m━━━━━━━━━━━━━━━━━━━━\u001b[0m\u001b[37m\u001b[0m \u001b[1m43s\u001b[0m 30ms/step - accuracy: 0.7875 - loss: 0.8411\n",
            "Epoch 60/100\n",
            "\u001b[1m1192/1192\u001b[0m \u001b[32m━━━━━━━━━━━━━━━━━━━━\u001b[0m\u001b[37m\u001b[0m \u001b[1m39s\u001b[0m 29ms/step - accuracy: 0.7816 - loss: 0.8614\n",
            "Epoch 61/100\n",
            "\u001b[1m1192/1192\u001b[0m \u001b[32m━━━━━━━━━━━━━━━━━━━━\u001b[0m\u001b[37m\u001b[0m \u001b[1m43s\u001b[0m 31ms/step - accuracy: 0.7919 - loss: 0.8259\n",
            "Epoch 62/100\n",
            "\u001b[1m1192/1192\u001b[0m \u001b[32m━━━━━━━━━━━━━━━━━━━━\u001b[0m\u001b[37m\u001b[0m \u001b[1m40s\u001b[0m 30ms/step - accuracy: 0.7963 - loss: 0.8021\n",
            "Epoch 63/100\n",
            "\u001b[1m1192/1192\u001b[0m \u001b[32m━━━━━━━━━━━━━━━━━━━━\u001b[0m\u001b[37m\u001b[0m \u001b[1m39s\u001b[0m 29ms/step - accuracy: 0.7693 - loss: 0.9088\n",
            "Epoch 64/100\n",
            "\u001b[1m1192/1192\u001b[0m \u001b[32m━━━━━━━━━━━━━━━━━━━━\u001b[0m\u001b[37m\u001b[0m \u001b[1m34s\u001b[0m 29ms/step - accuracy: 0.8009 - loss: 0.7831\n",
            "Epoch 65/100\n",
            "\u001b[1m1192/1192\u001b[0m \u001b[32m━━━━━━━━━━━━━━━━━━━━\u001b[0m\u001b[37m\u001b[0m \u001b[1m36s\u001b[0m 30ms/step - accuracy: 0.7938 - loss: 0.8036\n",
            "Epoch 66/100\n",
            "\u001b[1m1192/1192\u001b[0m \u001b[32m━━━━━━━━━━━━━━━━━━━━\u001b[0m\u001b[37m\u001b[0m \u001b[1m39s\u001b[0m 29ms/step - accuracy: 0.8041 - loss: 0.7716\n",
            "Epoch 67/100\n",
            "\u001b[1m1192/1192\u001b[0m \u001b[32m━━━━━━━━━━━━━━━━━━━━\u001b[0m\u001b[37m\u001b[0m \u001b[1m41s\u001b[0m 29ms/step - accuracy: 0.8008 - loss: 0.7732\n",
            "Epoch 68/100\n",
            "\u001b[1m1192/1192\u001b[0m \u001b[32m━━━━━━━━━━━━━━━━━━━━\u001b[0m\u001b[37m\u001b[0m \u001b[1m41s\u001b[0m 29ms/step - accuracy: 0.8070 - loss: 0.7408\n",
            "Epoch 69/100\n",
            "\u001b[1m1192/1192\u001b[0m \u001b[32m━━━━━━━━━━━━━━━━━━━━\u001b[0m\u001b[37m\u001b[0m \u001b[1m43s\u001b[0m 30ms/step - accuracy: 0.8034 - loss: 0.7595\n",
            "Epoch 70/100\n",
            "\u001b[1m1192/1192\u001b[0m \u001b[32m━━━━━━━━━━━━━━━━━━━━\u001b[0m\u001b[37m\u001b[0m \u001b[1m35s\u001b[0m 29ms/step - accuracy: 0.8112 - loss: 0.7469\n",
            "Epoch 71/100\n",
            "\u001b[1m1192/1192\u001b[0m \u001b[32m━━━━━━━━━━━━━━━━━━━━\u001b[0m\u001b[37m\u001b[0m \u001b[1m40s\u001b[0m 28ms/step - accuracy: 0.8100 - loss: 0.7474\n",
            "Epoch 72/100\n",
            "\u001b[1m1192/1192\u001b[0m \u001b[32m━━━━━━━━━━━━━━━━━━━━\u001b[0m\u001b[37m\u001b[0m \u001b[1m42s\u001b[0m 29ms/step - accuracy: 0.8066 - loss: 0.7435\n",
            "Epoch 73/100\n",
            "\u001b[1m1192/1192\u001b[0m \u001b[32m━━━━━━━━━━━━━━━━━━━━\u001b[0m\u001b[37m\u001b[0m \u001b[1m41s\u001b[0m 29ms/step - accuracy: 0.8094 - loss: 0.7412\n",
            "Epoch 74/100\n",
            "\u001b[1m1192/1192\u001b[0m \u001b[32m━━━━━━━━━━━━━━━━━━━━\u001b[0m\u001b[37m\u001b[0m \u001b[1m44s\u001b[0m 32ms/step - accuracy: 0.8144 - loss: 0.7153\n",
            "Epoch 75/100\n",
            "\u001b[1m1192/1192\u001b[0m \u001b[32m━━━━━━━━━━━━━━━━━━━━\u001b[0m\u001b[37m\u001b[0m \u001b[1m36s\u001b[0m 30ms/step - accuracy: 0.8170 - loss: 0.7131\n",
            "Epoch 76/100\n",
            "\u001b[1m1192/1192\u001b[0m \u001b[32m━━━━━━━━━━━━━━━━━━━━\u001b[0m\u001b[37m\u001b[0m \u001b[1m42s\u001b[0m 31ms/step - accuracy: 0.8152 - loss: 0.7163\n",
            "Epoch 77/100\n",
            "\u001b[1m1192/1192\u001b[0m \u001b[32m━━━━━━━━━━━━━━━━━━━━\u001b[0m\u001b[37m\u001b[0m \u001b[1m42s\u001b[0m 32ms/step - accuracy: 0.8175 - loss: 0.7139\n",
            "Epoch 78/100\n",
            "\u001b[1m1192/1192\u001b[0m \u001b[32m━━━━━━━━━━━━━━━━━━━━\u001b[0m\u001b[37m\u001b[0m \u001b[1m36s\u001b[0m 30ms/step - accuracy: 0.8207 - loss: 0.7107\n",
            "Epoch 79/100\n",
            "\u001b[1m1192/1192\u001b[0m \u001b[32m━━━━━━━━━━━━━━━━━━━━\u001b[0m\u001b[37m\u001b[0m \u001b[1m37s\u001b[0m 31ms/step - accuracy: 0.8164 - loss: 0.7189\n",
            "Epoch 80/100\n",
            "\u001b[1m1192/1192\u001b[0m \u001b[32m━━━━━━━━━━━━━━━━━━━━\u001b[0m\u001b[37m\u001b[0m \u001b[1m35s\u001b[0m 29ms/step - accuracy: 0.8214 - loss: 0.6918\n",
            "Epoch 81/100\n",
            "\u001b[1m1192/1192\u001b[0m \u001b[32m━━━━━━━━━━━━━━━━━━━━\u001b[0m\u001b[37m\u001b[0m \u001b[1m42s\u001b[0m 30ms/step - accuracy: 0.8196 - loss: 0.6901\n",
            "Epoch 82/100\n",
            "\u001b[1m1192/1192\u001b[0m \u001b[32m━━━━━━━━━━━━━━━━━━━━\u001b[0m\u001b[37m\u001b[0m \u001b[1m43s\u001b[0m 31ms/step - accuracy: 0.8266 - loss: 0.6633\n",
            "Epoch 83/100\n",
            "\u001b[1m1192/1192\u001b[0m \u001b[32m━━━━━━━━━━━━━━━━━━━━\u001b[0m\u001b[37m\u001b[0m \u001b[1m38s\u001b[0m 29ms/step - accuracy: 0.8270 - loss: 0.6635\n",
            "Epoch 84/100\n",
            "\u001b[1m1192/1192\u001b[0m \u001b[32m━━━━━━━━━━━━━━━━━━━━\u001b[0m\u001b[37m\u001b[0m \u001b[1m43s\u001b[0m 31ms/step - accuracy: 0.8270 - loss: 0.6516\n",
            "Epoch 85/100\n",
            "\u001b[1m1192/1192\u001b[0m \u001b[32m━━━━━━━━━━━━━━━━━━━━\u001b[0m\u001b[37m\u001b[0m \u001b[1m42s\u001b[0m 31ms/step - accuracy: 0.8327 - loss: 0.6272\n",
            "Epoch 86/100\n",
            "\u001b[1m1192/1192\u001b[0m \u001b[32m━━━━━━━━━━━━━━━━━━━━\u001b[0m\u001b[37m\u001b[0m \u001b[1m38s\u001b[0m 29ms/step - accuracy: 0.8267 - loss: 0.6622\n",
            "Epoch 87/100\n",
            "\u001b[1m1192/1192\u001b[0m \u001b[32m━━━━━━━━━━━━━━━━━━━━\u001b[0m\u001b[37m\u001b[0m \u001b[1m35s\u001b[0m 30ms/step - accuracy: 0.8261 - loss: 0.6643\n",
            "Epoch 88/100\n",
            "\u001b[1m1192/1192\u001b[0m \u001b[32m━━━━━━━━━━━━━━━━━━━━\u001b[0m\u001b[37m\u001b[0m \u001b[1m35s\u001b[0m 29ms/step - accuracy: 0.8282 - loss: 0.6456\n",
            "Epoch 89/100\n",
            "\u001b[1m1192/1192\u001b[0m \u001b[32m━━━━━━━━━━━━━━━━━━━━\u001b[0m\u001b[37m\u001b[0m \u001b[1m35s\u001b[0m 29ms/step - accuracy: 0.8349 - loss: 0.6291\n",
            "Epoch 90/100\n",
            "\u001b[1m1192/1192\u001b[0m \u001b[32m━━━━━━━━━━━━━━━━━━━━\u001b[0m\u001b[37m\u001b[0m \u001b[1m34s\u001b[0m 29ms/step - accuracy: 0.8331 - loss: 0.6454\n",
            "Epoch 91/100\n",
            "\u001b[1m1192/1192\u001b[0m \u001b[32m━━━━━━━━━━━━━━━━━━━━\u001b[0m\u001b[37m\u001b[0m \u001b[1m43s\u001b[0m 31ms/step - accuracy: 0.8185 - loss: 0.7051\n",
            "Epoch 92/100\n",
            "\u001b[1m1192/1192\u001b[0m \u001b[32m━━━━━━━━━━━━━━━━━━━━\u001b[0m\u001b[37m\u001b[0m \u001b[1m34s\u001b[0m 29ms/step - accuracy: 0.8296 - loss: 0.6642\n",
            "Epoch 93/100\n",
            "\u001b[1m1192/1192\u001b[0m \u001b[32m━━━━━━━━━━━━━━━━━━━━\u001b[0m\u001b[37m\u001b[0m \u001b[1m42s\u001b[0m 30ms/step - accuracy: 0.8359 - loss: 0.6265\n",
            "Epoch 94/100\n",
            "\u001b[1m1192/1192\u001b[0m \u001b[32m━━━━━━━━━━━━━━━━━━━━\u001b[0m\u001b[37m\u001b[0m \u001b[1m39s\u001b[0m 28ms/step - accuracy: 0.8331 - loss: 0.6338\n",
            "Epoch 95/100\n",
            "\u001b[1m1192/1192\u001b[0m \u001b[32m━━━━━━━━━━━━━━━━━━━━\u001b[0m\u001b[37m\u001b[0m \u001b[1m44s\u001b[0m 31ms/step - accuracy: 0.8346 - loss: 0.6353\n",
            "Epoch 96/100\n",
            "\u001b[1m1192/1192\u001b[0m \u001b[32m━━━━━━━━━━━━━━━━━━━━\u001b[0m\u001b[37m\u001b[0m \u001b[1m41s\u001b[0m 31ms/step - accuracy: 0.8310 - loss: 0.6461\n",
            "Epoch 97/100\n",
            "\u001b[1m1192/1192\u001b[0m \u001b[32m━━━━━━━━━━━━━━━━━━━━\u001b[0m\u001b[37m\u001b[0m \u001b[1m38s\u001b[0m 29ms/step - accuracy: 0.6959 - loss: 1.3803\n",
            "Epoch 98/100\n",
            "\u001b[1m1192/1192\u001b[0m \u001b[32m━━━━━━━━━━━━━━━━━━━━\u001b[0m\u001b[37m\u001b[0m \u001b[1m43s\u001b[0m 30ms/step - accuracy: 0.8391 - loss: 0.6240\n",
            "Epoch 99/100\n",
            "\u001b[1m1192/1192\u001b[0m \u001b[32m━━━━━━━━━━━━━━━━━━━━\u001b[0m\u001b[37m\u001b[0m \u001b[1m42s\u001b[0m 31ms/step - accuracy: 0.8580 - loss: 0.5369\n",
            "Epoch 100/100\n",
            "\u001b[1m1192/1192\u001b[0m \u001b[32m━━━━━━━━━━━━━━━━━━━━\u001b[0m\u001b[37m\u001b[0m \u001b[1m42s\u001b[0m 32ms/step - accuracy: 0.8487 - loss: 0.5684\n"
          ]
        }
      ],
      "source": [
        "\n",
        "# 7. Entrenamiento del modelo\n",
        "model.fit(X, y, epochs=100, batch_size=32)\n",
        "\n",
        "# 8. Guardar el modelo en el formato recomendado por Keras 3\n",
        "model.save('modelo_texto_diomedes.keras')\n",
        "\n",
        "# 9. Función para generar texto a partir de una palabra dada\n"
      ]
    },
    {
      "cell_type": "code",
      "execution_count": null,
      "metadata": {
        "colab": {
          "base_uri": "https://localhost:8080/"
        },
        "id": "X11nm-tMv6Y4",
        "outputId": "e119c838-3ab1-4e45-e757-2e3ac8e01e27"
      },
      "outputs": [
        {
          "name": "stderr",
          "output_type": "stream",
          "text": [
            "WARNING:absl:You are saving your model as an HDF5 file via `model.save()` or `keras.saving.save_model(model)`. This file format is considered legacy. We recommend using instead the native Keras format, e.g. `model.save('my_model.keras')` or `keras.saving.save_model(model, 'my_model.keras')`. \n"
          ]
        }
      ],
      "source": [
        "# Guardar el modelo en el nuevo formato recomendado por Keras 3\n",
        "model.save('modelo_texto_canciones.keras')  # Guardado en el nuevo formato .keras\n",
        "\n",
        "# Guardar el modelo en formato HDF5 (si prefieres el formato HDF5)\n",
        "model.save('modelo_texto_canciones.h5')  #"
      ]
    },
    {
      "cell_type": "code",
      "execution_count": null,
      "metadata": {
        "colab": {
          "base_uri": "https://localhost:8080/"
        },
        "id": "D8RnJLarrUR0",
        "outputId": "7dc70fce-b835-42d4-f852-6233627f083b"
      },
      "outputs": [
        {
          "name": "stdout",
          "output_type": "stream",
          "text": [
            "\u001b[1m1/1\u001b[0m \u001b[32m━━━━━━━━━━━━━━━━━━━━\u001b[0m\u001b[37m\u001b[0m \u001b[1m0s\u001b[0m 62ms/step\n",
            "\u001b[1m1/1\u001b[0m \u001b[32m━━━━━━━━━━━━━━━━━━━━\u001b[0m\u001b[37m\u001b[0m \u001b[1m0s\u001b[0m 44ms/step\n",
            "\u001b[1m1/1\u001b[0m \u001b[32m━━━━━━━━━━━━━━━━━━━━\u001b[0m\u001b[37m\u001b[0m \u001b[1m0s\u001b[0m 45ms/step\n",
            "\u001b[1m1/1\u001b[0m \u001b[32m━━━━━━━━━━━━━━━━━━━━\u001b[0m\u001b[37m\u001b[0m \u001b[1m0s\u001b[0m 43ms/step\n",
            "\u001b[1m1/1\u001b[0m \u001b[32m━━━━━━━━━━━━━━━━━━━━\u001b[0m\u001b[37m\u001b[0m \u001b[1m0s\u001b[0m 56ms/step\n",
            "\u001b[1m1/1\u001b[0m \u001b[32m━━━━━━━━━━━━━━━━━━━━\u001b[0m\u001b[37m\u001b[0m \u001b[1m0s\u001b[0m 49ms/step\n",
            "\u001b[1m1/1\u001b[0m \u001b[32m━━━━━━━━━━━━━━━━━━━━\u001b[0m\u001b[37m\u001b[0m \u001b[1m0s\u001b[0m 45ms/step\n",
            "\u001b[1m1/1\u001b[0m \u001b[32m━━━━━━━━━━━━━━━━━━━━\u001b[0m\u001b[37m\u001b[0m \u001b[1m0s\u001b[0m 54ms/step\n",
            "\u001b[1m1/1\u001b[0m \u001b[32m━━━━━━━━━━━━━━━━━━━━\u001b[0m\u001b[37m\u001b[0m \u001b[1m0s\u001b[0m 49ms/step\n",
            "\u001b[1m1/1\u001b[0m \u001b[32m━━━━━━━━━━━━━━━━━━━━\u001b[0m\u001b[37m\u001b[0m \u001b[1m0s\u001b[0m 50ms/step\n",
            "\u001b[1m1/1\u001b[0m \u001b[32m━━━━━━━━━━━━━━━━━━━━\u001b[0m\u001b[37m\u001b[0m \u001b[1m0s\u001b[0m 47ms/step\n",
            "\u001b[1m1/1\u001b[0m \u001b[32m━━━━━━━━━━━━━━━━━━━━\u001b[0m\u001b[37m\u001b[0m \u001b[1m0s\u001b[0m 48ms/step\n",
            "\u001b[1m1/1\u001b[0m \u001b[32m━━━━━━━━━━━━━━━━━━━━\u001b[0m\u001b[37m\u001b[0m \u001b[1m0s\u001b[0m 46ms/step\n",
            "\u001b[1m1/1\u001b[0m \u001b[32m━━━━━━━━━━━━━━━━━━━━\u001b[0m\u001b[37m\u001b[0m \u001b[1m0s\u001b[0m 49ms/step\n",
            "\u001b[1m1/1\u001b[0m \u001b[32m━━━━━━━━━━━━━━━━━━━━\u001b[0m\u001b[37m\u001b[0m \u001b[1m0s\u001b[0m 56ms/step\n",
            "\u001b[1m1/1\u001b[0m \u001b[32m━━━━━━━━━━━━━━━━━━━━\u001b[0m\u001b[37m\u001b[0m \u001b[1m0s\u001b[0m 53ms/step\n",
            "\u001b[1m1/1\u001b[0m \u001b[32m━━━━━━━━━━━━━━━━━━━━\u001b[0m\u001b[37m\u001b[0m \u001b[1m0s\u001b[0m 37ms/step\n",
            "\u001b[1m1/1\u001b[0m \u001b[32m━━━━━━━━━━━━━━━━━━━━\u001b[0m\u001b[37m\u001b[0m \u001b[1m0s\u001b[0m 31ms/step\n",
            "\u001b[1m1/1\u001b[0m \u001b[32m━━━━━━━━━━━━━━━━━━━━\u001b[0m\u001b[37m\u001b[0m \u001b[1m0s\u001b[0m 31ms/step\n",
            "\u001b[1m1/1\u001b[0m \u001b[32m━━━━━━━━━━━━━━━━━━━━\u001b[0m\u001b[37m\u001b[0m \u001b[1m0s\u001b[0m 32ms/step\n",
            "\u001b[1m1/1\u001b[0m \u001b[32m━━━━━━━━━━━━━━━━━━━━\u001b[0m\u001b[37m\u001b[0m \u001b[1m0s\u001b[0m 32ms/step\n",
            "\u001b[1m1/1\u001b[0m \u001b[32m━━━━━━━━━━━━━━━━━━━━\u001b[0m\u001b[37m\u001b[0m \u001b[1m0s\u001b[0m 45ms/step\n",
            "\u001b[1m1/1\u001b[0m \u001b[32m━━━━━━━━━━━━━━━━━━━━\u001b[0m\u001b[37m\u001b[0m \u001b[1m0s\u001b[0m 39ms/step\n",
            "\u001b[1m1/1\u001b[0m \u001b[32m━━━━━━━━━━━━━━━━━━━━\u001b[0m\u001b[37m\u001b[0m \u001b[1m0s\u001b[0m 36ms/step\n",
            "\u001b[1m1/1\u001b[0m \u001b[32m━━━━━━━━━━━━━━━━━━━━\u001b[0m\u001b[37m\u001b[0m \u001b[1m0s\u001b[0m 36ms/step\n",
            "\u001b[1m1/1\u001b[0m \u001b[32m━━━━━━━━━━━━━━━━━━━━\u001b[0m\u001b[37m\u001b[0m \u001b[1m0s\u001b[0m 35ms/step\n",
            "\u001b[1m1/1\u001b[0m \u001b[32m━━━━━━━━━━━━━━━━━━━━\u001b[0m\u001b[37m\u001b[0m \u001b[1m0s\u001b[0m 35ms/step\n",
            "\u001b[1m1/1\u001b[0m \u001b[32m━━━━━━━━━━━━━━━━━━━━\u001b[0m\u001b[37m\u001b[0m \u001b[1m0s\u001b[0m 31ms/step\n",
            "\u001b[1m1/1\u001b[0m \u001b[32m━━━━━━━━━━━━━━━━━━━━\u001b[0m\u001b[37m\u001b[0m \u001b[1m0s\u001b[0m 32ms/step\n",
            "\u001b[1m1/1\u001b[0m \u001b[32m━━━━━━━━━━━━━━━━━━━━\u001b[0m\u001b[37m\u001b[0m \u001b[1m0s\u001b[0m 36ms/step\n",
            "navaja ajeno al la amor que\n",
            "me hace enloquecer fue tu mirada\n",
            "tu ausencia te sigo esperando no\n",
            "te bote te nunca quiero bailar\n",
            "la murga la murga de panamaesto\n"
          ]
        }
      ],
      "source": [
        "import numpy as np\n",
        "from tensorflow.keras.preprocessing.sequence import pad_sequences\n",
        "\n",
        "# Parámetros de generación\n",
        "text_length = 6  # Número de palabras en cada línea generada (ajustable)\n",
        "seq_length = model.input_shape[1]  # Longitud de la secuencia de entrada esperada por el modelo\n",
        "\n",
        "def generate_text(model, tokenizer, input_text, no_lines):\n",
        "    general_text = []  # Lista para almacenar las líneas generadas\n",
        "    for i in range(no_lines):\n",
        "        text = []\n",
        "        for _ in range(text_length):\n",
        "            # Convertir el texto actual en una secuencia de enteros\n",
        "            encoded = tokenizer.texts_to_sequences([input_text])\n",
        "            # Aplicar padding a la secuencia\n",
        "            encoded = pad_sequences(encoded, maxlen=seq_length, padding=\"pre\")\n",
        "            # Predecir la siguiente palabra\n",
        "            y_pred = np.argmax(model.predict(encoded), axis=-1)\n",
        "\n",
        "            # Buscar la palabra correspondiente en el índice del tokenizer\n",
        "            predicted_word = \"\"\n",
        "            for word, index in tokenizer.word_index.items():\n",
        "                if index == y_pred:\n",
        "                    predicted_word = word\n",
        "                    break\n",
        "\n",
        "            # Agregar la palabra predicha al texto\n",
        "            input_text = input_text + ' ' + predicted_word\n",
        "            text.append(predicted_word)\n",
        "\n",
        "        # Actualizar `input_text` para la próxima línea con la última palabra generada\n",
        "        input_text = text[-1]\n",
        "        # Unir la línea generada y agregarla a `general_text`\n",
        "        general_text.append(\" \".join(text))\n",
        "\n",
        "    return general_text\n",
        "\n",
        "# Ejemplo de uso\n",
        "input_text = \"pedro\"  # Palabra inicial\n",
        "no_lines = 5          # Número de líneas de texto a generar\n",
        "\n",
        "generated_text = generate_text(model, tokenizer, input_text, no_lines)\n",
        "for line in generated_text:\n",
        "    print(line)\n"
      ]
    },
    {
      "cell_type": "code",
      "execution_count": null,
      "metadata": {
        "colab": {
          "base_uri": "https://localhost:8080/"
        },
        "id": "4BLTDG3ez11M",
        "outputId": "26c5de5f-e4c9-41d5-8fa8-38365a948a74"
      },
      "outputs": [
        {
          "name": "stdout",
          "output_type": "stream",
          "text": [
            "\u001b[1m1/1\u001b[0m \u001b[32m━━━━━━━━━━━━━━━━━━━━\u001b[0m\u001b[37m\u001b[0m \u001b[1m0s\u001b[0m 36ms/step\n",
            "\u001b[1m1/1\u001b[0m \u001b[32m━━━━━━━━━━━━━━━━━━━━\u001b[0m\u001b[37m\u001b[0m \u001b[1m0s\u001b[0m 34ms/step\n",
            "\u001b[1m1/1\u001b[0m \u001b[32m━━━━━━━━━━━━━━━━━━━━\u001b[0m\u001b[37m\u001b[0m \u001b[1m0s\u001b[0m 30ms/step\n",
            "\u001b[1m1/1\u001b[0m \u001b[32m━━━━━━━━━━━━━━━━━━━━\u001b[0m\u001b[37m\u001b[0m \u001b[1m0s\u001b[0m 29ms/step\n",
            "\u001b[1m1/1\u001b[0m \u001b[32m━━━━━━━━━━━━━━━━━━━━\u001b[0m\u001b[37m\u001b[0m \u001b[1m0s\u001b[0m 31ms/step\n",
            "\u001b[1m1/1\u001b[0m \u001b[32m━━━━━━━━━━━━━━━━━━━━\u001b[0m\u001b[37m\u001b[0m \u001b[1m0s\u001b[0m 31ms/step\n",
            "\u001b[1m1/1\u001b[0m \u001b[32m━━━━━━━━━━━━━━━━━━━━\u001b[0m\u001b[37m\u001b[0m \u001b[1m0s\u001b[0m 30ms/step\n",
            "\u001b[1m1/1\u001b[0m \u001b[32m━━━━━━━━━━━━━━━━━━━━\u001b[0m\u001b[37m\u001b[0m \u001b[1m0s\u001b[0m 32ms/step\n",
            "\u001b[1m1/1\u001b[0m \u001b[32m━━━━━━━━━━━━━━━━━━━━\u001b[0m\u001b[37m\u001b[0m \u001b[1m0s\u001b[0m 43ms/step\n",
            "\u001b[1m1/1\u001b[0m \u001b[32m━━━━━━━━━━━━━━━━━━━━\u001b[0m\u001b[37m\u001b[0m \u001b[1m0s\u001b[0m 40ms/step\n",
            "\u001b[1m1/1\u001b[0m \u001b[32m━━━━━━━━━━━━━━━━━━━━\u001b[0m\u001b[37m\u001b[0m \u001b[1m0s\u001b[0m 47ms/step\n",
            "\u001b[1m1/1\u001b[0m \u001b[32m━━━━━━━━━━━━━━━━━━━━\u001b[0m\u001b[37m\u001b[0m \u001b[1m0s\u001b[0m 46ms/step\n",
            "\u001b[1m1/1\u001b[0m \u001b[32m━━━━━━━━━━━━━━━━━━━━\u001b[0m\u001b[37m\u001b[0m \u001b[1m0s\u001b[0m 55ms/step\n",
            "\u001b[1m1/1\u001b[0m \u001b[32m━━━━━━━━━━━━━━━━━━━━\u001b[0m\u001b[37m\u001b[0m \u001b[1m0s\u001b[0m 59ms/step\n",
            "\u001b[1m1/1\u001b[0m \u001b[32m━━━━━━━━━━━━━━━━━━━━\u001b[0m\u001b[37m\u001b[0m \u001b[1m0s\u001b[0m 41ms/step\n",
            "\u001b[1m1/1\u001b[0m \u001b[32m━━━━━━━━━━━━━━━━━━━━\u001b[0m\u001b[37m\u001b[0m \u001b[1m0s\u001b[0m 47ms/step\n",
            "\u001b[1m1/1\u001b[0m \u001b[32m━━━━━━━━━━━━━━━━━━━━\u001b[0m\u001b[37m\u001b[0m \u001b[1m0s\u001b[0m 39ms/step\n",
            "\u001b[1m1/1\u001b[0m \u001b[32m━━━━━━━━━━━━━━━━━━━━\u001b[0m\u001b[37m\u001b[0m \u001b[1m0s\u001b[0m 39ms/step\n",
            "\u001b[1m1/1\u001b[0m \u001b[32m━━━━━━━━━━━━━━━━━━━━\u001b[0m\u001b[37m\u001b[0m \u001b[1m0s\u001b[0m 40ms/step\n",
            "\u001b[1m1/1\u001b[0m \u001b[32m━━━━━━━━━━━━━━━━━━━━\u001b[0m\u001b[37m\u001b[0m \u001b[1m0s\u001b[0m 45ms/step\n",
            "\u001b[1m1/1\u001b[0m \u001b[32m━━━━━━━━━━━━━━━━━━━━\u001b[0m\u001b[37m\u001b[0m \u001b[1m0s\u001b[0m 45ms/step\n",
            "\u001b[1m1/1\u001b[0m \u001b[32m━━━━━━━━━━━━━━━━━━━━\u001b[0m\u001b[37m\u001b[0m \u001b[1m0s\u001b[0m 48ms/step\n",
            "\u001b[1m1/1\u001b[0m \u001b[32m━━━━━━━━━━━━━━━━━━━━\u001b[0m\u001b[37m\u001b[0m \u001b[1m0s\u001b[0m 49ms/step\n",
            "\u001b[1m1/1\u001b[0m \u001b[32m━━━━━━━━━━━━━━━━━━━━\u001b[0m\u001b[37m\u001b[0m \u001b[1m0s\u001b[0m 53ms/step\n",
            "\u001b[1m1/1\u001b[0m \u001b[32m━━━━━━━━━━━━━━━━━━━━\u001b[0m\u001b[37m\u001b[0m \u001b[1m0s\u001b[0m 52ms/step\n",
            "\u001b[1m1/1\u001b[0m \u001b[32m━━━━━━━━━━━━━━━━━━━━\u001b[0m\u001b[37m\u001b[0m \u001b[1m0s\u001b[0m 47ms/step\n",
            "\u001b[1m1/1\u001b[0m \u001b[32m━━━━━━━━━━━━━━━━━━━━\u001b[0m\u001b[37m\u001b[0m \u001b[1m0s\u001b[0m 42ms/step\n",
            "\u001b[1m1/1\u001b[0m \u001b[32m━━━━━━━━━━━━━━━━━━━━\u001b[0m\u001b[37m\u001b[0m \u001b[1m0s\u001b[0m 44ms/step\n",
            "\u001b[1m1/1\u001b[0m \u001b[32m━━━━━━━━━━━━━━━━━━━━\u001b[0m\u001b[37m\u001b[0m \u001b[1m0s\u001b[0m 66ms/step\n",
            "\u001b[1m1/1\u001b[0m \u001b[32m━━━━━━━━━━━━━━━━━━━━\u001b[0m\u001b[37m\u001b[0m \u001b[1m0s\u001b[0m 44ms/step\n",
            "ron pal'que quiera que no que\n",
            "me hace enloquecer fue tu mirada\n",
            "tu ausencia te sigo esperando no\n",
            "te bote te nunca quiero bailar\n",
            "la murga la murga de panamaesto\n"
          ]
        }
      ],
      "source": [
        "input_text = \"plata\"  # Palabra inicial\n",
        "no_lines = 5          # Número de líneas de texto a generar\n",
        "\n",
        "generated_text = generate_text(model, tokenizer, input_text, no_lines)\n",
        "for line in generated_text:\n",
        "    print(line)\n"
      ]
    },
    {
      "cell_type": "code",
      "execution_count": null,
      "metadata": {
        "colab": {
          "base_uri": "https://localhost:8080/"
        },
        "id": "NUYlmxXAAw5C",
        "outputId": "cf90cac7-f8fd-4e18-8d3b-22d71eb801c0"
      },
      "outputs": [
        {
          "name": "stdout",
          "output_type": "stream",
          "text": [
            "\u001b[1m1/1\u001b[0m \u001b[32m━━━━━━━━━━━━━━━━━━━━\u001b[0m\u001b[37m\u001b[0m \u001b[1m0s\u001b[0m 52ms/step\n",
            "\u001b[1m1/1\u001b[0m \u001b[32m━━━━━━━━━━━━━━━━━━━━\u001b[0m\u001b[37m\u001b[0m \u001b[1m0s\u001b[0m 70ms/step\n",
            "\u001b[1m1/1\u001b[0m \u001b[32m━━━━━━━━━━━━━━━━━━━━\u001b[0m\u001b[37m\u001b[0m \u001b[1m0s\u001b[0m 66ms/step\n",
            "\u001b[1m1/1\u001b[0m \u001b[32m━━━━━━━━━━━━━━━━━━━━\u001b[0m\u001b[37m\u001b[0m \u001b[1m0s\u001b[0m 45ms/step\n",
            "\u001b[1m1/1\u001b[0m \u001b[32m━━━━━━━━━━━━━━━━━━━━\u001b[0m\u001b[37m\u001b[0m \u001b[1m0s\u001b[0m 53ms/step\n",
            "\u001b[1m1/1\u001b[0m \u001b[32m━━━━━━━━━━━━━━━━━━━━\u001b[0m\u001b[37m\u001b[0m \u001b[1m0s\u001b[0m 44ms/step\n",
            "\u001b[1m1/1\u001b[0m \u001b[32m━━━━━━━━━━━━━━━━━━━━\u001b[0m\u001b[37m\u001b[0m \u001b[1m0s\u001b[0m 43ms/step\n",
            "\u001b[1m1/1\u001b[0m \u001b[32m━━━━━━━━━━━━━━━━━━━━\u001b[0m\u001b[37m\u001b[0m \u001b[1m0s\u001b[0m 40ms/step\n",
            "\u001b[1m1/1\u001b[0m \u001b[32m━━━━━━━━━━━━━━━━━━━━\u001b[0m\u001b[37m\u001b[0m \u001b[1m0s\u001b[0m 52ms/step\n",
            "\u001b[1m1/1\u001b[0m \u001b[32m━━━━━━━━━━━━━━━━━━━━\u001b[0m\u001b[37m\u001b[0m \u001b[1m0s\u001b[0m 48ms/step\n",
            "\u001b[1m1/1\u001b[0m \u001b[32m━━━━━━━━━━━━━━━━━━━━\u001b[0m\u001b[37m\u001b[0m \u001b[1m0s\u001b[0m 46ms/step\n",
            "\u001b[1m1/1\u001b[0m \u001b[32m━━━━━━━━━━━━━━━━━━━━\u001b[0m\u001b[37m\u001b[0m \u001b[1m0s\u001b[0m 80ms/step\n",
            "\u001b[1m1/1\u001b[0m \u001b[32m━━━━━━━━━━━━━━━━━━━━\u001b[0m\u001b[37m\u001b[0m \u001b[1m0s\u001b[0m 46ms/step\n",
            "\u001b[1m1/1\u001b[0m \u001b[32m━━━━━━━━━━━━━━━━━━━━\u001b[0m\u001b[37m\u001b[0m \u001b[1m0s\u001b[0m 53ms/step\n",
            "\u001b[1m1/1\u001b[0m \u001b[32m━━━━━━━━━━━━━━━━━━━━\u001b[0m\u001b[37m\u001b[0m \u001b[1m0s\u001b[0m 43ms/step\n",
            "\u001b[1m1/1\u001b[0m \u001b[32m━━━━━━━━━━━━━━━━━━━━\u001b[0m\u001b[37m\u001b[0m \u001b[1m0s\u001b[0m 52ms/step\n",
            "\u001b[1m1/1\u001b[0m \u001b[32m━━━━━━━━━━━━━━━━━━━━\u001b[0m\u001b[37m\u001b[0m \u001b[1m0s\u001b[0m 57ms/step\n",
            "\u001b[1m1/1\u001b[0m \u001b[32m━━━━━━━━━━━━━━━━━━━━\u001b[0m\u001b[37m\u001b[0m \u001b[1m0s\u001b[0m 58ms/step\n",
            "\u001b[1m1/1\u001b[0m \u001b[32m━━━━━━━━━━━━━━━━━━━━\u001b[0m\u001b[37m\u001b[0m \u001b[1m0s\u001b[0m 48ms/step\n",
            "\u001b[1m1/1\u001b[0m \u001b[32m━━━━━━━━━━━━━━━━━━━━\u001b[0m\u001b[37m\u001b[0m \u001b[1m0s\u001b[0m 42ms/step\n",
            "\u001b[1m1/1\u001b[0m \u001b[32m━━━━━━━━━━━━━━━━━━━━\u001b[0m\u001b[37m\u001b[0m \u001b[1m0s\u001b[0m 53ms/step\n",
            "\u001b[1m1/1\u001b[0m \u001b[32m━━━━━━━━━━━━━━━━━━━━\u001b[0m\u001b[37m\u001b[0m \u001b[1m0s\u001b[0m 47ms/step\n",
            "\u001b[1m1/1\u001b[0m \u001b[32m━━━━━━━━━━━━━━━━━━━━\u001b[0m\u001b[37m\u001b[0m \u001b[1m0s\u001b[0m 43ms/step\n",
            "\u001b[1m1/1\u001b[0m \u001b[32m━━━━━━━━━━━━━━━━━━━━\u001b[0m\u001b[37m\u001b[0m \u001b[1m0s\u001b[0m 37ms/step\n",
            "\u001b[1m1/1\u001b[0m \u001b[32m━━━━━━━━━━━━━━━━━━━━\u001b[0m\u001b[37m\u001b[0m \u001b[1m0s\u001b[0m 33ms/step\n",
            "\u001b[1m1/1\u001b[0m \u001b[32m━━━━━━━━━━━━━━━━━━━━\u001b[0m\u001b[37m\u001b[0m \u001b[1m0s\u001b[0m 37ms/step\n",
            "\u001b[1m1/1\u001b[0m \u001b[32m━━━━━━━━━━━━━━━━━━━━\u001b[0m\u001b[37m\u001b[0m \u001b[1m0s\u001b[0m 32ms/step\n",
            "\u001b[1m1/1\u001b[0m \u001b[32m━━━━━━━━━━━━━━━━━━━━\u001b[0m\u001b[37m\u001b[0m \u001b[1m0s\u001b[0m 31ms/step\n",
            "\u001b[1m1/1\u001b[0m \u001b[32m━━━━━━━━━━━━━━━━━━━━\u001b[0m\u001b[37m\u001b[0m \u001b[1m0s\u001b[0m 35ms/step\n",
            "\u001b[1m1/1\u001b[0m \u001b[32m━━━━━━━━━━━━━━━━━━━━\u001b[0m\u001b[37m\u001b[0m \u001b[1m0s\u001b[0m 30ms/step\n",
            "aprieta un puno dentro 'el noche\n",
            "gozando contigo caminando yo mio manana\n",
            "para amor quiero tenerte y en\n",
            "barranquilla me quedo sabroso y rosa\n",
            "elvira y hoy que me compromiso\n"
          ]
        }
      ],
      "source": [
        "input_text = \"navaja\"  # Palabra inicial\n",
        "no_lines = 5          # Número de líneas de texto a generar\n",
        "\n",
        "generated_text = generate_text(model, tokenizer, input_text, no_lines)\n",
        "for line in generated_text:\n",
        "    print(line)\n"
      ]
    },
    {
      "cell_type": "markdown",
      "metadata": {
        "id": "v48Ln2crNZ-B"
      },
      "source": [
        "# LSTM\n"
      ]
    },
    {
      "cell_type": "code",
      "execution_count": null,
      "metadata": {
        "id": "rmstagkJNcvh"
      },
      "outputs": [],
      "source": []
    },
    {
      "cell_type": "markdown",
      "metadata": {
        "id": "cCtkgOnbFQz7"
      },
      "source": [
        "## PUNTO 2"
      ]
    },
    {
      "cell_type": "code",
      "execution_count": null,
      "metadata": {
        "id": "VaveSlpepDBO"
      },
      "outputs": [],
      "source": [
        "import pandas as pd\n",
        "import numpy  as np\n",
        "#import matplotlib.pyplot as plt\n",
        "import plotly.express as px\n",
        "import seaborn as sb\n",
        "from textwrap import wrap"
      ]
    },
    {
      "cell_type": "markdown",
      "metadata": {
        "id": "GYhxSFrQFUOr"
      },
      "source": [
        "En este punto usamos el modelo ste modelo pertenece a la familia Helsinki-NLP, que incluye modelos optimizados para traducciones entre muchos pares de idiomas.\n",
        "Este es Helsinki-NLP/opus-mt-en-es Es parte del proyecto Opus-MT, que utiliza datos paralelos de alta calidad para entrenar modelos de traducción automática.\n",
        "\n"
      ]
    },
    {
      "cell_type": "code",
      "execution_count": null,
      "metadata": {
        "colab": {
          "base_uri": "https://localhost:8080/"
        },
        "id": "NbkIGFxh7i6Y",
        "outputId": "e5fbdbb4-2f70-48ef-e43a-4be54e7d5808"
      },
      "outputs": [
        {
          "name": "stdout",
          "output_type": "stream",
          "text": [
            "Requirement already satisfied: transformers in /usr/local/lib/python3.10/dist-packages (4.46.2)\n",
            "Requirement already satisfied: filelock in /usr/local/lib/python3.10/dist-packages (from transformers) (3.16.1)\n",
            "Requirement already satisfied: huggingface-hub<1.0,>=0.23.2 in /usr/local/lib/python3.10/dist-packages (from transformers) (0.26.2)\n",
            "Requirement already satisfied: numpy>=1.17 in /usr/local/lib/python3.10/dist-packages (from transformers) (1.26.4)\n",
            "Requirement already satisfied: packaging>=20.0 in /usr/local/lib/python3.10/dist-packages (from transformers) (24.2)\n",
            "Requirement already satisfied: pyyaml>=5.1 in /usr/local/lib/python3.10/dist-packages (from transformers) (6.0.2)\n",
            "Requirement already satisfied: regex!=2019.12.17 in /usr/local/lib/python3.10/dist-packages (from transformers) (2024.9.11)\n",
            "Requirement already satisfied: requests in /usr/local/lib/python3.10/dist-packages (from transformers) (2.32.3)\n",
            "Requirement already satisfied: safetensors>=0.4.1 in /usr/local/lib/python3.10/dist-packages (from transformers) (0.4.5)\n",
            "Requirement already satisfied: tokenizers<0.21,>=0.20 in /usr/local/lib/python3.10/dist-packages (from transformers) (0.20.3)\n",
            "Requirement already satisfied: tqdm>=4.27 in /usr/local/lib/python3.10/dist-packages (from transformers) (4.66.6)\n",
            "Requirement already satisfied: fsspec>=2023.5.0 in /usr/local/lib/python3.10/dist-packages (from huggingface-hub<1.0,>=0.23.2->transformers) (2024.10.0)\n",
            "Requirement already satisfied: typing-extensions>=3.7.4.3 in /usr/local/lib/python3.10/dist-packages (from huggingface-hub<1.0,>=0.23.2->transformers) (4.12.2)\n",
            "Requirement already satisfied: charset-normalizer<4,>=2 in /usr/local/lib/python3.10/dist-packages (from requests->transformers) (3.4.0)\n",
            "Requirement already satisfied: idna<4,>=2.5 in /usr/local/lib/python3.10/dist-packages (from requests->transformers) (3.10)\n",
            "Requirement already satisfied: urllib3<3,>=1.21.1 in /usr/local/lib/python3.10/dist-packages (from requests->transformers) (2.2.3)\n",
            "Requirement already satisfied: certifi>=2017.4.17 in /usr/local/lib/python3.10/dist-packages (from requests->transformers) (2024.8.30)\n"
          ]
        }
      ],
      "source": [
        "pip install transformers"
      ]
    },
    {
      "cell_type": "code",
      "execution_count": null,
      "metadata": {
        "id": "VmI8C09rGK7a"
      },
      "outputs": [],
      "source": [
        "from transformers import MarianTokenizer, MarianMTModel\n",
        "\n",
        "# Modelo específico para inglés a español\n",
        "model_name = \"Helsinki-NLP/opus-mt-en-es\"\n",
        "tokenizer = MarianTokenizer.from_pretrained(model_name)\n",
        "model = MarianMTModel.from_pretrained(model_name)"
      ]
    },
    {
      "cell_type": "code",
      "execution_count": null,
      "metadata": {
        "colab": {
          "base_uri": "https://localhost:8080/"
        },
        "id": "eSgUogWF9dmA",
        "outputId": "8306df68-e156-47e0-fbdc-c2d5264ecf9b"
      },
      "outputs": [
        {
          "name": "stdout",
          "output_type": "stream",
          "text": [
            "Traducción: Los estudios han demostrado que poseer un perro es bueno para su salud.\n"
          ]
        }
      ],
      "source": [
        "\n",
        "# Texto a traducir\n",
        "texto = \"Studies have shown that owning a dog is good for your health.\"\n",
        "\n",
        "# Tokenizar y generar traducción\n",
        "input_ids = tokenizer(texto, return_tensors=\"pt\").input_ids\n",
        "outputs = model.generate(input_ids)\n",
        "traduccion = tokenizer.decode(outputs[0], skip_special_tokens=True)\n",
        "\n",
        "print(\"Traducción:\", traduccion)\n"
      ]
    },
    {
      "cell_type": "code",
      "execution_count": null,
      "metadata": {
        "colab": {
          "base_uri": "https://localhost:8080/"
        },
        "id": "Ko2lUCVEAjWX",
        "outputId": "bdd8d08e-82c1-4f8c-d995-0487e36b6dbb"
      },
      "outputs": [
        {
          "name": "stdout",
          "output_type": "stream",
          "text": [
            "Traducción: fácil apretón de limón\n"
          ]
        }
      ],
      "source": [
        "\n",
        "texto = \"easy peasy lemon squeezy\"\n",
        "\n",
        "# Tokenizar y generar traducción\n",
        "input_ids = tokenizer(texto, return_tensors=\"pt\").input_ids\n",
        "outputs = model.generate(input_ids)\n",
        "traduccion = tokenizer.decode(outputs[0], skip_special_tokens=True)\n",
        "\n",
        "print(\"Traducción:\", traduccion)\n"
      ]
    },
    {
      "cell_type": "code",
      "execution_count": null,
      "metadata": {
        "colab": {
          "base_uri": "https://localhost:8080/"
        },
        "id": "Qr4dj7-lCgYT",
        "outputId": "7c251c14-88ff-4c9e-be8f-05a087e306e7"
      },
      "outputs": [
        {
          "name": "stdout",
          "output_type": "stream",
          "text": [
            "Traducción: La inteligencia artificial nunca reemplazará a los humanos... hasta que aprenda a quejarse de los lunes.\n"
          ]
        }
      ],
      "source": [
        "\n",
        "texto = \"Artificial intelligence will never replace humans... until it learns how to complain about Mondays.\"\n",
        "\n",
        "# Tokenizar y generar traducción\n",
        "input_ids = tokenizer(texto, return_tensors=\"pt\").input_ids\n",
        "outputs = model.generate(input_ids)\n",
        "traduccion = tokenizer.decode(outputs[0], skip_special_tokens=True)\n",
        "\n",
        "print(\"Traducción:\", traduccion)\n"
      ]
    },
    {
      "cell_type": "code",
      "execution_count": null,
      "metadata": {
        "colab": {
          "base_uri": "https://localhost:8080/"
        },
        "id": "BU4TKf1nE-xT",
        "outputId": "3095c3a0-df86-463f-a41b-d76ef3945e85"
      },
      "outputs": [
        {
          "name": "stdout",
          "output_type": "stream",
          "text": [
            "Traducción: La educación desempeña un papel crucial en la configuración del futuro de las sociedades. El acceso a una educación de calidad potencia a las personas y fomenta el crecimiento económico.\n"
          ]
        }
      ],
      "source": [
        "\n",
        "texto = \"Education plays a crucial role in shaping the future of societies. Access to quality education empowers individuals and fosters economic growth.\"\n",
        "\n",
        "# Tokenizar y generar traducción\n",
        "input_ids = tokenizer(texto, return_tensors=\"pt\").input_ids\n",
        "outputs = model.generate(input_ids)\n",
        "traduccion = tokenizer.decode(outputs[0], skip_special_tokens=True)\n",
        "\n",
        "print(\"Traducción:\", traduccion)\n"
      ]
    },
    {
      "cell_type": "markdown",
      "metadata": {
        "id": "AomGnVySBTIL"
      },
      "source": [
        "##PUNTO 3\n"
      ]
    },
    {
      "cell_type": "code",
      "execution_count": null,
      "metadata": {
        "colab": {
          "base_uri": "https://localhost:8080/"
        },
        "id": "GS_YWC0BBFRC",
        "outputId": "1b33f893-02ee-4bac-983a-5e2e99f38099"
      },
      "outputs": [
        {
          "output_type": "stream",
          "name": "stdout",
          "text": [
            "2.13.0\n"
          ]
        }
      ],
      "source": [
        "import tensorflow as tf\n",
        "print(tf.__version__)"
      ]
    },
    {
      "cell_type": "code",
      "execution_count": null,
      "metadata": {
        "id": "eMyzztnBFstd"
      },
      "outputs": [],
      "source": [
        "import tensorflow_hub  as hub"
      ]
    },
    {
      "cell_type": "code",
      "execution_count": null,
      "metadata": {
        "colab": {
          "base_uri": "https://localhost:8080/"
        },
        "id": "x9V64Fx6HG4V",
        "outputId": "4d8dded0-6274-4071-909e-b10411cb8b54"
      },
      "outputs": [
        {
          "output_type": "stream",
          "name": "stdout",
          "text": [
            "TensorFlow Hub version: 0.13.0\n"
          ]
        }
      ],
      "source": [
        "print(\"TensorFlow Hub version:\", hub.__version__)"
      ]
    },
    {
      "cell_type": "code",
      "execution_count": null,
      "metadata": {
        "colab": {
          "base_uri": "https://localhost:8080/"
        },
        "id": "njnFDt6vHWWG",
        "outputId": "45d2077d-af69-41a4-ac1f-093878c36539"
      },
      "outputs": [
        {
          "output_type": "execute_result",
          "data": {
            "text/plain": [
              "(16000, 2000, 2000, 6)"
            ]
          },
          "metadata": {},
          "execution_count": 7
        }
      ],
      "source": [
        "from sklearn.preprocessing import LabelEncoder\n",
        "\n",
        "# Función para cargar y procesar datos desde un archivo\n",
        "def load_and_process_data(filepath, label_encoder=None):\n",
        "    texts, labels = [], []\n",
        "    with open(filepath, 'r') as file:\n",
        "        for line in file:\n",
        "            text, label = line.strip().split(';')\n",
        "            texts.append(text)\n",
        "            labels.append(label)\n",
        "    # Si no se ha proporcionado un label_encoder, crearlo y ajustarlo\n",
        "    if label_encoder is None:\n",
        "        label_encoder = LabelEncoder()\n",
        "        labels_encoded = label_encoder.fit_transform(labels)\n",
        "    else:\n",
        "        labels_encoded = label_encoder.transform(labels)\n",
        "    return texts, labels_encoded, label_encoder\n",
        "\n",
        "# Cargar los conjuntos de datos\n",
        "train_texts, train_labels, label_encoder = load_and_process_data('/content/train.txt')\n",
        "val_texts, val_labels, _ = load_and_process_data('/content/val.txt', label_encoder=label_encoder)\n",
        "test_texts, test_labels, _ = load_and_process_data('/content/test.txt', label_encoder=label_encoder)\n",
        "\n",
        "# Verificar el número de clases y tamaño de los conjuntos de datos\n",
        "num_classes = len(label_encoder.classes_)\n",
        "len(train_texts), len(val_texts), len(test_texts), num_classes\n"
      ]
    },
    {
      "cell_type": "markdown",
      "source": [
        "\n",
        "El conjunto de datos utilizado contiene frases en inglés que expresan emociones humanas y están etiquetadas con emociones específicas como \"joy\", \"sadness\", \"anger\", entre otras. Este dataset se originó de Kaggle y se utiliza comúnmente para entrenar modelos de Procesamiento de Lenguaje Natural (PLN) con tareas de clasificación de emociones. El dataset está dividido en tres archivos: train.txt, val.txt y test.txt, que representan los conjuntos de entrenamiento, validación y prueba, respectivamente"
      ],
      "metadata": {
        "id": "H7Y7v65v6s-J"
      }
    },
    {
      "cell_type": "markdown",
      "source": [
        "# NNLM GOOGLE"
      ],
      "metadata": {
        "id": "SO1ZTTZ06op7"
      }
    },
    {
      "cell_type": "markdown",
      "source": [
        "El código entrena un modelo de clasificación de emociones usando TensorFlow Hub con el modelo preentrenado nnlm-en-dim128.\n",
        "Acepta frases en inglés como entrada.\n",
        "\n",
        "1.   Acepta frases en inglés como entrada.\n",
        "2.   Convierte el texto en embeddings de 128 dimensiones que representan su significado.\n",
        "3. Estos embeddings son procesados por una red neuronal con una capa oculta (relu) y una capa de salida (softmax) para clasificar emociones.\n",
        "\n",
        "\n",
        "\n"
      ],
      "metadata": {
        "id": "tiude4jbBCyY"
      }
    },
    {
      "cell_type": "code",
      "execution_count": null,
      "metadata": {
        "colab": {
          "base_uri": "https://localhost:8080/"
        },
        "id": "ILe3YXhKHiZd",
        "outputId": "fc42e4c2-4c1e-4b0f-84db-8340319b9ab2"
      },
      "outputs": [
        {
          "output_type": "stream",
          "name": "stdout",
          "text": [
            "Model: \"sequential_6\"\n",
            "_________________________________________________________________\n",
            " Layer (type)                Output Shape              Param #   \n",
            "=================================================================\n",
            " keras_layer_6 (KerasLayer)  (None, 128)               124642688 \n",
            "                                                                 \n",
            " dense_12 (Dense)            (None, 128)               16512     \n",
            "                                                                 \n",
            " dense_13 (Dense)            (None, 6)                 774       \n",
            "                                                                 \n",
            "=================================================================\n",
            "Total params: 124659974 (475.54 MB)\n",
            "Trainable params: 124659974 (475.54 MB)\n",
            "Non-trainable params: 0 (0.00 Byte)\n",
            "_________________________________________________________________\n"
          ]
        }
      ],
      "source": [
        "import tensorflow_hub as hub\n",
        "import tensorflow as tf\n",
        "\n",
        "# Crear el model_punto3o con TensorFlow Hub\n",
        "module_url = \"https://tfhub.dev/google/nnlm-en-dim128/2\"\n",
        "hub_layer = hub.KerasLayer(module_url, input_shape=[], dtype=tf.string, trainable=True)\n",
        "\n",
        "model_punto3 = tf.keras.Sequential([\n",
        "    hub_layer,  # Capa preentrenada de embeddings\n",
        "    tf.keras.layers.Dense(128, activation='relu'),  # Capa intermedia\n",
        "    tf.keras.layers.Dense(num_classes, activation='softmax')  # Capa de salida para clasificación multiclase\n",
        "])\n",
        "\n",
        "# Compilar el model_punto3o\n",
        "model_punto3.compile(optimizer='adam',\n",
        "              loss='sparse_categorical_crossentropy',  # Para etiquetas como índices numéricos\n",
        "              metrics=['accuracy'])\n",
        "\n",
        "# Resumen del model_punto3o\n",
        "model_punto3.summary()\n",
        "\n",
        "\n"
      ]
    },
    {
      "cell_type": "code",
      "source": [
        "\n",
        "# Preparar los datos para entrenamiento\n",
        "batch_size = 32\n",
        "train_dataset = tf.data.Dataset.from_tensor_slices((train_texts, train_labels)).batch(batch_size)\n",
        "val_dataset = tf.data.Dataset.from_tensor_slices((val_texts, val_labels)).batch(batch_size)\n",
        "\n",
        "# Entrenar el model_punto3o\n",
        "history = model_punto3.fit(train_dataset, validation_data=val_dataset, epochs=5)\n",
        "\n",
        "# Mostrar historial de entrenamiento\n",
        "history.history"
      ],
      "metadata": {
        "id": "-lXTARS7BgFo"
      },
      "execution_count": null,
      "outputs": []
    },
    {
      "cell_type": "code",
      "source": [
        "import tensorflow as tf\n",
        "import tensorflow_hub as hub\n",
        "import numpy as np\n",
        "import pandas as pd\n",
        "\n",
        "# Cargar el modelo previamente guardado\n",
        "\n",
        "\n",
        "# Función para cargar el archivo de test\n",
        "def load_test_data(filepath):\n",
        "    texts, labels = [], []\n",
        "    with open(filepath, \"r\") as file:\n",
        "        for line in file:\n",
        "            text, label = line.strip().split(\";\")\n",
        "            texts.append(text)\n",
        "            labels.append(label)\n",
        "    return texts, labels\n",
        "\n",
        "# Cargar datos de test\n",
        "test_texts, test_labels = load_test_data(\"/content/test.txt\")\n",
        "\n",
        "# Convertir etiquetas de texto a índices numéricos\n",
        "label_to_index = {label: idx for idx, label in enumerate(sorted(set(test_labels)))}\n",
        "index_to_label = {idx: label for label, idx in label_to_index.items()}\n",
        "test_labels_numeric = np.array([label_to_index[label] for label in test_labels])\n",
        "\n",
        "# Seleccionar algunos ejemplos aleatorios para realizar predicciones\n",
        "sample_indices = np.random.choice(len(test_texts), size=10, replace=False)\n",
        "sample_texts = [test_texts[i] for i in sample_indices]\n",
        "sample_labels = [test_labels[i] for i in sample_indices]\n",
        "\n",
        "# Realizar predicciones\n",
        "predictions = model_punto3.predict(sample_texts)\n",
        "predicted_labels = [index_to_label[np.argmax(pred)] for pred in predictions]\n",
        "\n",
        "# Preparar los resultados en un DataFrame\n",
        "results = pd.DataFrame({\n",
        "    \"Texto\": sample_texts,\n",
        "    \"Etiqueta Real\": sample_labels,\n",
        "    \"Etiqueta Predicha\": predicted_labels\n",
        "})\n",
        "\n",
        "# Mostrar los resultados\n",
        "print(results)\n",
        "\n"
      ],
      "metadata": {
        "colab": {
          "base_uri": "https://localhost:8080/"
        },
        "id": "RRyIQoTFp7kv",
        "outputId": "5b31c02b-b9ad-43dc-e960-6eebfa65b4b1"
      },
      "execution_count": null,
      "outputs": [
        {
          "output_type": "stream",
          "name": "stdout",
          "text": [
            "1/1 [==============================] - 0s 118ms/step\n",
            "                                               Texto Etiqueta Real  \\\n",
            "0  i am feeling contented and pissed at the same ...           joy   \n",
            "1  i hated that i have to work everyday with no d...       sadness   \n",
            "2  i got a shot of terbutaline which makes you fe...          fear   \n",
            "3                im feeling slightly irritable today         anger   \n",
            "4  i also know that if today i refuse to hate jew...       sadness   \n",
            "5  i feel very mislead by someone that i really r...          love   \n",
            "6                     i feel so safe and tucked away           joy   \n",
            "7     i feel much lighter clearer and more energetic           joy   \n",
            "8  i check you when you re sleeping feel your nos...           joy   \n",
            "9  i have a feeling i will be dissatisfied severa...         anger   \n",
            "\n",
            "  Etiqueta Predicha  \n",
            "0               joy  \n",
            "1           sadness  \n",
            "2              fear  \n",
            "3             anger  \n",
            "4             anger  \n",
            "5              love  \n",
            "6               joy  \n",
            "7               joy  \n",
            "8             anger  \n",
            "9             anger  \n"
          ]
        }
      ]
    },
    {
      "cell_type": "markdown",
      "source": [
        "El modelo muestra un buen desempeño al predecir las emociones en la mayoría de los casos, como se observa en las etiquetas predichas que coinciden con las etiquetas reales en varios ejemplos. Sin embargo, en algunos casos, como el 4 y el 8, el modelo clasificó incorrectamente las emociones, mostrando cierta dificultad para capturar la complejidad semántica de estos textos. A pesar de ello, la mayoría de las predicciones reflejan una tendencia correcta hacia la emoción predominante."
      ],
      "metadata": {
        "id": "51N21ZJWCf6i"
      }
    },
    {
      "cell_type": "markdown",
      "source": [
        "##Universal Sentence Encode"
      ],
      "metadata": {
        "id": "wScHOtL8Ciid"
      }
    },
    {
      "cell_type": "markdown",
      "source": [
        "El código entrena un modelo de clasificación de emociones usando TensorFlow Hub con el modelo preentrenado Universal Sentence Encoder (USE).\n",
        "\n",
        "\n",
        "\n",
        "1.  Acepta frases en inglés como entrada.\n",
        "2.  Genera embeddings semánticos de alta calidad que capturan el contexto completo de cada oración.\n",
        "3. Estos embeddings son procesados por una red neuronal con una capa oculta (relu) y una capa de salida (softmax) para clasificar las emociones en diferentes categorías.\n",
        "\n",
        "\n"
      ],
      "metadata": {
        "id": "vMaDCqKlDchC"
      }
    },
    {
      "cell_type": "code",
      "source": [
        "import tensorflow as tf\n",
        "import tensorflow_hub as hub\n",
        "\n",
        "# URL del modelo preentrenado Universal Sentence Encoder\n",
        "module_url = \"https://tfhub.dev/google/universal-sentence-encoder/4\"\n",
        "hub_layer = hub.KerasLayer(module_url, input_shape=[], dtype=tf.string, trainable=False)\n",
        "\n",
        "# Crear el modelo de clasificación\n",
        "model = tf.keras.Sequential([\n",
        "    hub_layer,  # Capa preentrenada del USE\n",
        "    tf.keras.layers.Dense(128, activation='relu'),  # Capa intermedia densa\n",
        "    tf.keras.layers.Dense(num_classes, activation='softmax')  # Capa de salida para multiclase\n",
        "])\n",
        "\n",
        "# Compilar el modelo\n",
        "model.compile(optimizer='adam',\n",
        "              loss='sparse_categorical_crossentropy',\n",
        "              metrics=['accuracy'])\n",
        "\n",
        "# Resumen del modelo\n",
        "model.summary()\n",
        "\n",
        "# Preparar los datos para entrenamiento\n",
        "batch_size = 32\n",
        "train_dataset = tf.data.Dataset.from_tensor_slices((train_texts, train_labels)).batch(batch_size)\n",
        "val_dataset = tf.data.Dataset.from_tensor_slices((val_texts, val_labels)).batch(batch_size)\n",
        "\n",
        "# Entrenar el modelo\n",
        "history = model.fit(train_dataset, validation_data=val_dataset, epochs=10)\n",
        "\n",
        "\n"
      ],
      "metadata": {
        "colab": {
          "base_uri": "https://localhost:8080/"
        },
        "id": "cY-XXJ7y39Zm",
        "outputId": "d2f558da-6e68-4163-f018-3503b36cd06d"
      },
      "execution_count": null,
      "outputs": [
        {
          "output_type": "stream",
          "name": "stdout",
          "text": [
            "Model: \"sequential_4\"\n",
            "_________________________________________________________________\n",
            " Layer (type)                Output Shape              Param #   \n",
            "=================================================================\n",
            " keras_layer_4 (KerasLayer)  (None, 512)               256797824 \n",
            "                                                                 \n",
            " dense_8 (Dense)             (None, 128)               65664     \n",
            "                                                                 \n",
            " dense_9 (Dense)             (None, 6)                 774       \n",
            "                                                                 \n",
            "=================================================================\n",
            "Total params: 256864262 (979.86 MB)\n",
            "Trainable params: 66438 (259.52 KB)\n",
            "Non-trainable params: 256797824 (979.61 MB)\n",
            "_________________________________________________________________\n",
            "Epoch 1/10\n",
            "500/500 [==============================] - 13s 20ms/step - loss: 1.1489 - accuracy: 0.5799 - val_loss: 0.9789 - val_accuracy: 0.6375\n",
            "Epoch 2/10\n",
            "500/500 [==============================] - 8s 16ms/step - loss: 0.9412 - accuracy: 0.6527 - val_loss: 0.9443 - val_accuracy: 0.6465\n",
            "Epoch 3/10\n",
            "500/500 [==============================] - 7s 15ms/step - loss: 0.9012 - accuracy: 0.6667 - val_loss: 0.9274 - val_accuracy: 0.6545\n",
            "Epoch 4/10\n",
            "500/500 [==============================] - 10s 20ms/step - loss: 0.8700 - accuracy: 0.6783 - val_loss: 0.9129 - val_accuracy: 0.6570\n",
            "Epoch 5/10\n",
            "500/500 [==============================] - 9s 18ms/step - loss: 0.8397 - accuracy: 0.6876 - val_loss: 0.9006 - val_accuracy: 0.6590\n",
            "Epoch 6/10\n",
            "500/500 [==============================] - 8s 16ms/step - loss: 0.8097 - accuracy: 0.6991 - val_loss: 0.8903 - val_accuracy: 0.6610\n",
            "Epoch 7/10\n",
            "500/500 [==============================] - 11s 21ms/step - loss: 0.7797 - accuracy: 0.7092 - val_loss: 0.8810 - val_accuracy: 0.6705\n",
            "Epoch 8/10\n",
            "500/500 [==============================] - 7s 15ms/step - loss: 0.7504 - accuracy: 0.7223 - val_loss: 0.8735 - val_accuracy: 0.6785\n",
            "Epoch 9/10\n",
            "500/500 [==============================] - 8s 15ms/step - loss: 0.7215 - accuracy: 0.7356 - val_loss: 0.8671 - val_accuracy: 0.6810\n",
            "Epoch 10/10\n",
            "500/500 [==============================] - 10s 19ms/step - loss: 0.6932 - accuracy: 0.7477 - val_loss: 0.8621 - val_accuracy: 0.6800\n"
          ]
        }
      ]
    },
    {
      "cell_type": "code",
      "source": [
        "import tensorflow as tf\n",
        "import tensorflow_hub as hub\n",
        "import numpy as np\n",
        "import pandas as pd\n",
        "\n",
        "# Cargar el modelo previamente guardado\n",
        "\n",
        "\n",
        "# Función para cargar el archivo de test\n",
        "def load_test_data(filepath):\n",
        "    texts, labels = [], []\n",
        "    with open(filepath, \"r\") as file:\n",
        "        for line in file:\n",
        "            text, label = line.strip().split(\";\")\n",
        "            texts.append(text)\n",
        "            labels.append(label)\n",
        "    return texts, labels\n",
        "\n",
        "# Cargar datos de test\n",
        "test_texts, test_labels = load_test_data(\"/content/test.txt\")\n",
        "\n",
        "# Convertir etiquetas de texto a índices numéricos\n",
        "label_to_index = {label: idx for idx, label in enumerate(sorted(set(test_labels)))}\n",
        "index_to_label = {idx: label for label, idx in label_to_index.items()}\n",
        "test_labels_numeric = np.array([label_to_index[label] for label in test_labels])\n",
        "\n",
        "# Seleccionar algunos ejemplos aleatorios para realizar predicciones\n",
        "sample_indices = np.random.choice(len(test_texts), size=10, replace=False)\n",
        "sample_texts = [test_texts[i] for i in sample_indices]\n",
        "sample_labels = [test_labels[i] for i in sample_indices]\n",
        "\n",
        "# Realizar predicciones\n",
        "predictions = model.predict(sample_texts)\n",
        "predicted_labels = [index_to_label[np.argmax(pred)] for pred in predictions]\n",
        "\n",
        "# Preparar los resultados en un DataFrame\n",
        "results = pd.DataFrame({\n",
        "    \"Texto\": sample_texts,\n",
        "    \"Etiqueta Real\": sample_labels,\n",
        "    \"Etiqueta Predicha\": predicted_labels\n",
        "})\n",
        "\n",
        "# Mostrar los resultados\n",
        "print(results)"
      ],
      "metadata": {
        "colab": {
          "base_uri": "https://localhost:8080/"
        },
        "id": "CmBOqiZI4SoC",
        "outputId": "b599e053-c9cb-476f-f8ae-399aa82f9f85"
      },
      "execution_count": null,
      "outputs": [
        {
          "output_type": "stream",
          "name": "stdout",
          "text": [
            "1/1 [==============================] - 1s 511ms/step\n",
            "                                               Texto Etiqueta Real  \\\n",
            "0                        i feel so amazing musicjuzz           joy   \n",
            "1  i don t like outsourcing because i m a picky s...         anger   \n",
            "2  i described how i was feeling the feeling of b...          fear   \n",
            "3  i am not scared to let myself feel deeply many...          fear   \n",
            "4  i do not want others to feel unhappy just beca...       sadness   \n",
            "5                               i feel stupid enough       sadness   \n",
            "6  i had been talking to coach claudia barcomb an...           joy   \n",
            "7                 ive been feeling sort of depressed       sadness   \n",
            "8  im feeling more lively than yesterday still no...           joy   \n",
            "9  i always feel rushed during these emails which...         anger   \n",
            "\n",
            "  Etiqueta Predicha  \n",
            "0               joy  \n",
            "1             anger  \n",
            "2              fear  \n",
            "3              fear  \n",
            "4           sadness  \n",
            "5           sadness  \n",
            "6               joy  \n",
            "7           sadness  \n",
            "8               joy  \n",
            "9              love  \n"
          ]
        }
      ]
    },
    {
      "cell_type": "markdown",
      "source": [
        "\n",
        "El modelo muestra un buen desempeño al predecir las emociones en la mayoría de los casos, reflejando coincidencias entre las etiquetas reales y predichas, como se ve en los ejemplos Sin embargo, presenta errores en casos como el 9, donde la emoción real es \"anger\" pero se predijo \"love\", indicando dificultades para interpretar matices emocionales en textos más complejos. A pesar de ello, las predicciones en su mayoría capturan correctamente las emociones principales."
      ],
      "metadata": {
        "id": "Y1VC1iWPDdiK"
      }
    }
  ],
  "metadata": {
    "colab": {
      "provenance": []
    },
    "kernelspec": {
      "display_name": "Python 3",
      "name": "python3"
    },
    "language_info": {
      "name": "python"
    }
  },
  "nbformat": 4,
  "nbformat_minor": 0
}
